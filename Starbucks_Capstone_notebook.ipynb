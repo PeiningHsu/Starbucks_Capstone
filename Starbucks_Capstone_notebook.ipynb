{
 "cells": [
  {
   "cell_type": "markdown",
   "metadata": {},
   "source": [
    "# Starbucks Capstone Challenge\n",
    "\n",
    "### Introduction\n",
    "\n",
    "This data set contains simulated data that mimics customer behavior on the Starbucks rewards mobile app. Once every few days, Starbucks sends out an offer to users of the mobile app. An offer can be merely an advertisement for a drink or an actual offer such as a discount or BOGO (buy one get one free). Some users might not receive any offer during certain weeks. \n",
    "\n",
    "Not all users receive the same offer, and that is the challenge to solve with this data set.\n",
    "\n",
    "Your task is to combine transaction, demographic and offer data to determine which demographic groups respond best to which offer type. This data set is a simplified version of the real Starbucks app because the underlying simulator only has one product whereas Starbucks actually sells dozens of products.\n",
    "\n",
    "Every offer has a validity period before the offer expires. As an example, a BOGO offer might be valid for only 5 days. You'll see in the data set that informational offers have a validity period even though these ads are merely providing information about a product; for example, if an informational offer has 7 days of validity, you can assume the customer is feeling the influence of the offer for 7 days after receiving the advertisement.\n",
    "\n",
    "You'll be given transactional data showing user purchases made on the app including the timestamp of purchase and the amount of money spent on a purchase. This transactional data also has a record for each offer that a user receives as well as a record for when a user actually views the offer. There are also records for when a user completes an offer. \n",
    "\n",
    "Keep in mind as well that someone using the app might make a purchase through the app without having received an offer or seen an offer.\n",
    "\n",
    "### Example\n",
    "\n",
    "To give an example, a user could receive a discount offer buy 10 dollars get 2 off on Monday. The offer is valid for 10 days from receipt. If the customer accumulates at least 10 dollars in purchases during the validity period, the customer completes the offer.\n",
    "\n",
    "However, there are a few things to watch out for in this data set. Customers do not opt into the offers that they receive; in other words, a user can receive an offer, never actually view the offer, and still complete the offer. For example, a user might receive the \"buy 10 dollars get 2 dollars off offer\", but the user never opens the offer during the 10 day validity period. The customer spends 15 dollars during those ten days. There will be an offer completion record in the data set; however, the customer was not influenced by the offer because the customer never viewed the offer.\n",
    "\n",
    "### Cleaning\n",
    "\n",
    "This makes data cleaning especially important and tricky.\n",
    "\n",
    "You'll also want to take into account that some demographic groups will make purchases even if they don't receive an offer. From a business perspective, if a customer is going to make a 10 dollar purchase without an offer anyway, you wouldn't want to send a buy 10 dollars get 2 dollars off offer. You'll want to try to assess what a certain demographic group will buy when not receiving any offers.\n",
    "\n",
    "### Final Advice\n",
    "\n",
    "Because this is a capstone project, you are free to analyze the data any way you see fit. For example, you could build a machine learning model that predicts how much someone will spend based on demographics and offer type. Or you could build a model that predicts whether or not someone will respond to an offer. Or, you don't need to build a machine learning model at all. You could develop a set of heuristics that determine what offer you should send to each customer (i.e., 75 percent of women customers who were 35 years old responded to offer A vs 40 percent from the same demographic to offer B, so send offer A)."
   ]
  },
  {
   "cell_type": "markdown",
   "metadata": {},
   "source": [
    "# Data Sets\n",
    "\n",
    "The data is contained in three files:\n",
    "\n",
    "* portfolio.json - containing offer ids and meta data about each offer (duration, type, etc.)\n",
    "* profile.json - demographic data for each customer\n",
    "* transcript.json - records for transactions, offers received, offers viewed, and offers completed\n",
    "\n",
    "Here is the schema and explanation of each variable in the files:\n",
    "\n",
    "**portfolio.json**\n",
    "* id (string) - offer id\n",
    "* offer_type (string) - type of offer ie BOGO, discount, informational\n",
    "* difficulty (int) - minimum required spend to complete an offer\n",
    "* reward (int) - reward given for completing an offer\n",
    "* duration (int) - time for offer to be open, in days\n",
    "* channels (list of strings)\n",
    "\n",
    "**profile.json**\n",
    "* age (int) - age of the customer \n",
    "* became_member_on (int) - date when customer created an app account\n",
    "* gender (str) - gender of the customer (note some entries contain 'O' for other rather than M or F)\n",
    "* id (str) - customer id\n",
    "* income (float) - customer's income\n",
    "\n",
    "**transcript.json**\n",
    "* event (str) - record description (ie transaction, offer received, offer viewed, etc.)\n",
    "* person (str) - customer id\n",
    "* time (int) - time in hours since start of test. The data begins at time t=0\n",
    "* value - (dict of strings) - either an offer id or transaction amount depending on the record\n",
    "\n",
    "**Note:** If you are using the workspace, you will need to go to the terminal and run the command `conda update pandas` before reading in the files. This is because the version of pandas in the workspace cannot read in the transcript.json file correctly, but the newest version of pandas can. You can access the termnal from the orange icon in the top left of this notebook.  \n",
    "\n",
    "You can see how to access the terminal and how the install works using the two images below.  First you need to access the terminal:\n",
    "\n",
    "<img src=\"pic1.png\"/>\n",
    "\n",
    "Then you will want to run the above command:\n",
    "\n",
    "<img src=\"pic2.png\"/>\n",
    "\n",
    "Finally, when you enter back into the notebook (use the jupyter icon again), you should be able to run the below cell without any errors."
   ]
  },
  {
   "cell_type": "code",
   "execution_count": 1,
   "metadata": {},
   "outputs": [],
   "source": [
    "import pandas as pd\n",
    "import numpy as np\n",
    "import math\n",
    "import json\n",
    "import matplotlib.pyplot as plt\n",
    "from datetime import datetime, timedelta\n",
    "\n",
    "import seaborn as sb\n",
    "% matplotlib inline\n",
    "\n",
    "from sklearn.model_selection import train_test_split\n",
    "\n",
    "from sklearn.preprocessing import StandardScaler\n",
    "from sklearn.ensemble import RandomForestClassifier, GradientBoostingClassifier\n",
    "from sklearn.preprocessing import MinMaxScaler\n",
    "from sklearn.model_selection import cross_val_score\n",
    "from sklearn.metrics import accuracy_score, confusion_matrix, recall_score\n",
    "\n",
    "# read in the json files\n",
    "portfolio = pd.read_json('data/portfolio.json', orient='records', lines=True)\n",
    "profile = pd.read_json('data/profile.json', orient='records', lines=True)\n",
    "transcript = pd.read_json('data/transcript.json', orient='records', lines=True)"
   ]
  },
  {
   "cell_type": "code",
   "execution_count": 2,
   "metadata": {},
   "outputs": [],
   "source": [
    "portfolio['simple_id'] = portfolio.index+1"
   ]
  },
  {
   "cell_type": "code",
   "execution_count": 3,
   "metadata": {},
   "outputs": [
    {
     "data": {
      "text/html": [
       "<div>\n",
       "<style scoped>\n",
       "    .dataframe tbody tr th:only-of-type {\n",
       "        vertical-align: middle;\n",
       "    }\n",
       "\n",
       "    .dataframe tbody tr th {\n",
       "        vertical-align: top;\n",
       "    }\n",
       "\n",
       "    .dataframe thead th {\n",
       "        text-align: right;\n",
       "    }\n",
       "</style>\n",
       "<table border=\"1\" class=\"dataframe\">\n",
       "  <thead>\n",
       "    <tr style=\"text-align: right;\">\n",
       "      <th></th>\n",
       "      <th>channels</th>\n",
       "      <th>difficulty</th>\n",
       "      <th>duration</th>\n",
       "      <th>id</th>\n",
       "      <th>offer_type</th>\n",
       "      <th>reward</th>\n",
       "      <th>simple_id</th>\n",
       "    </tr>\n",
       "  </thead>\n",
       "  <tbody>\n",
       "    <tr>\n",
       "      <th>0</th>\n",
       "      <td>[email, mobile, social]</td>\n",
       "      <td>10</td>\n",
       "      <td>7</td>\n",
       "      <td>ae264e3637204a6fb9bb56bc8210ddfd</td>\n",
       "      <td>bogo</td>\n",
       "      <td>10</td>\n",
       "      <td>1</td>\n",
       "    </tr>\n",
       "    <tr>\n",
       "      <th>1</th>\n",
       "      <td>[web, email, mobile, social]</td>\n",
       "      <td>10</td>\n",
       "      <td>5</td>\n",
       "      <td>4d5c57ea9a6940dd891ad53e9dbe8da0</td>\n",
       "      <td>bogo</td>\n",
       "      <td>10</td>\n",
       "      <td>2</td>\n",
       "    </tr>\n",
       "    <tr>\n",
       "      <th>2</th>\n",
       "      <td>[web, email, mobile]</td>\n",
       "      <td>0</td>\n",
       "      <td>4</td>\n",
       "      <td>3f207df678b143eea3cee63160fa8bed</td>\n",
       "      <td>informational</td>\n",
       "      <td>0</td>\n",
       "      <td>3</td>\n",
       "    </tr>\n",
       "    <tr>\n",
       "      <th>3</th>\n",
       "      <td>[web, email, mobile]</td>\n",
       "      <td>5</td>\n",
       "      <td>7</td>\n",
       "      <td>9b98b8c7a33c4b65b9aebfe6a799e6d9</td>\n",
       "      <td>bogo</td>\n",
       "      <td>5</td>\n",
       "      <td>4</td>\n",
       "    </tr>\n",
       "    <tr>\n",
       "      <th>4</th>\n",
       "      <td>[web, email]</td>\n",
       "      <td>20</td>\n",
       "      <td>10</td>\n",
       "      <td>0b1e1539f2cc45b7b9fa7c272da2e1d7</td>\n",
       "      <td>discount</td>\n",
       "      <td>5</td>\n",
       "      <td>5</td>\n",
       "    </tr>\n",
       "    <tr>\n",
       "      <th>5</th>\n",
       "      <td>[web, email, mobile, social]</td>\n",
       "      <td>7</td>\n",
       "      <td>7</td>\n",
       "      <td>2298d6c36e964ae4a3e7e9706d1fb8c2</td>\n",
       "      <td>discount</td>\n",
       "      <td>3</td>\n",
       "      <td>6</td>\n",
       "    </tr>\n",
       "    <tr>\n",
       "      <th>6</th>\n",
       "      <td>[web, email, mobile, social]</td>\n",
       "      <td>10</td>\n",
       "      <td>10</td>\n",
       "      <td>fafdcd668e3743c1bb461111dcafc2a4</td>\n",
       "      <td>discount</td>\n",
       "      <td>2</td>\n",
       "      <td>7</td>\n",
       "    </tr>\n",
       "    <tr>\n",
       "      <th>7</th>\n",
       "      <td>[email, mobile, social]</td>\n",
       "      <td>0</td>\n",
       "      <td>3</td>\n",
       "      <td>5a8bc65990b245e5a138643cd4eb9837</td>\n",
       "      <td>informational</td>\n",
       "      <td>0</td>\n",
       "      <td>8</td>\n",
       "    </tr>\n",
       "    <tr>\n",
       "      <th>8</th>\n",
       "      <td>[web, email, mobile, social]</td>\n",
       "      <td>5</td>\n",
       "      <td>5</td>\n",
       "      <td>f19421c1d4aa40978ebb69ca19b0e20d</td>\n",
       "      <td>bogo</td>\n",
       "      <td>5</td>\n",
       "      <td>9</td>\n",
       "    </tr>\n",
       "    <tr>\n",
       "      <th>9</th>\n",
       "      <td>[web, email, mobile]</td>\n",
       "      <td>10</td>\n",
       "      <td>7</td>\n",
       "      <td>2906b810c7d4411798c6938adc9daaa5</td>\n",
       "      <td>discount</td>\n",
       "      <td>2</td>\n",
       "      <td>10</td>\n",
       "    </tr>\n",
       "  </tbody>\n",
       "</table>\n",
       "</div>"
      ],
      "text/plain": [
       "                       channels  difficulty  duration  \\\n",
       "0       [email, mobile, social]          10         7   \n",
       "1  [web, email, mobile, social]          10         5   \n",
       "2          [web, email, mobile]           0         4   \n",
       "3          [web, email, mobile]           5         7   \n",
       "4                  [web, email]          20        10   \n",
       "5  [web, email, mobile, social]           7         7   \n",
       "6  [web, email, mobile, social]          10        10   \n",
       "7       [email, mobile, social]           0         3   \n",
       "8  [web, email, mobile, social]           5         5   \n",
       "9          [web, email, mobile]          10         7   \n",
       "\n",
       "                                 id     offer_type  reward  simple_id  \n",
       "0  ae264e3637204a6fb9bb56bc8210ddfd           bogo      10          1  \n",
       "1  4d5c57ea9a6940dd891ad53e9dbe8da0           bogo      10          2  \n",
       "2  3f207df678b143eea3cee63160fa8bed  informational       0          3  \n",
       "3  9b98b8c7a33c4b65b9aebfe6a799e6d9           bogo       5          4  \n",
       "4  0b1e1539f2cc45b7b9fa7c272da2e1d7       discount       5          5  \n",
       "5  2298d6c36e964ae4a3e7e9706d1fb8c2       discount       3          6  \n",
       "6  fafdcd668e3743c1bb461111dcafc2a4       discount       2          7  \n",
       "7  5a8bc65990b245e5a138643cd4eb9837  informational       0          8  \n",
       "8  f19421c1d4aa40978ebb69ca19b0e20d           bogo       5          9  \n",
       "9  2906b810c7d4411798c6938adc9daaa5       discount       2         10  "
      ]
     },
     "execution_count": 3,
     "metadata": {},
     "output_type": "execute_result"
    }
   ],
   "source": [
    "portfolio"
   ]
  },
  {
   "cell_type": "code",
   "execution_count": 4,
   "metadata": {},
   "outputs": [],
   "source": [
    "def email(lst):\n",
    "    if 'email' in lst:\n",
    "        return 1\n",
    "    else:\n",
    "        return 0\n",
    "def mobile(lst):\n",
    "    if 'mobile' in lst:\n",
    "        return 1\n",
    "    else:\n",
    "        return 0\n",
    "def web(lst):\n",
    "    if 'web' in lst:\n",
    "        return 1\n",
    "    else:\n",
    "        return 0\n",
    "def social(lst):\n",
    "    if 'social' in lst:\n",
    "        return 1\n",
    "    else:\n",
    "        return 0\n",
    "portfolio['email'] = portfolio['channels'].apply(lambda x: email(x))\n",
    "portfolio['mobile'] = portfolio['channels'].apply(lambda x: mobile(x))\n",
    "portfolio['web'] = portfolio['channels'].apply(lambda x: web(x))\n",
    "portfolio['social'] = portfolio['channels'].apply(lambda x: social(x))\n",
    "                                    "
   ]
  },
  {
   "cell_type": "code",
   "execution_count": 5,
   "metadata": {},
   "outputs": [],
   "source": [
    "offer_type = pd.get_dummies(portfolio['offer_type'])\n",
    "portfolio = pd.concat([portfolio, offer_type], axis = 1)"
   ]
  },
  {
   "cell_type": "code",
   "execution_count": 6,
   "metadata": {},
   "outputs": [
    {
     "data": {
      "text/html": [
       "<div>\n",
       "<style scoped>\n",
       "    .dataframe tbody tr th:only-of-type {\n",
       "        vertical-align: middle;\n",
       "    }\n",
       "\n",
       "    .dataframe tbody tr th {\n",
       "        vertical-align: top;\n",
       "    }\n",
       "\n",
       "    .dataframe thead th {\n",
       "        text-align: right;\n",
       "    }\n",
       "</style>\n",
       "<table border=\"1\" class=\"dataframe\">\n",
       "  <thead>\n",
       "    <tr style=\"text-align: right;\">\n",
       "      <th></th>\n",
       "      <th>channels</th>\n",
       "      <th>difficulty</th>\n",
       "      <th>duration</th>\n",
       "      <th>id</th>\n",
       "      <th>offer_type</th>\n",
       "      <th>reward</th>\n",
       "      <th>simple_id</th>\n",
       "      <th>email</th>\n",
       "      <th>mobile</th>\n",
       "      <th>web</th>\n",
       "      <th>social</th>\n",
       "      <th>bogo</th>\n",
       "      <th>discount</th>\n",
       "      <th>informational</th>\n",
       "    </tr>\n",
       "  </thead>\n",
       "  <tbody>\n",
       "    <tr>\n",
       "      <th>0</th>\n",
       "      <td>[email, mobile, social]</td>\n",
       "      <td>10</td>\n",
       "      <td>7</td>\n",
       "      <td>ae264e3637204a6fb9bb56bc8210ddfd</td>\n",
       "      <td>bogo</td>\n",
       "      <td>10</td>\n",
       "      <td>1</td>\n",
       "      <td>1</td>\n",
       "      <td>1</td>\n",
       "      <td>0</td>\n",
       "      <td>1</td>\n",
       "      <td>1</td>\n",
       "      <td>0</td>\n",
       "      <td>0</td>\n",
       "    </tr>\n",
       "    <tr>\n",
       "      <th>1</th>\n",
       "      <td>[web, email, mobile, social]</td>\n",
       "      <td>10</td>\n",
       "      <td>5</td>\n",
       "      <td>4d5c57ea9a6940dd891ad53e9dbe8da0</td>\n",
       "      <td>bogo</td>\n",
       "      <td>10</td>\n",
       "      <td>2</td>\n",
       "      <td>1</td>\n",
       "      <td>1</td>\n",
       "      <td>1</td>\n",
       "      <td>1</td>\n",
       "      <td>1</td>\n",
       "      <td>0</td>\n",
       "      <td>0</td>\n",
       "    </tr>\n",
       "    <tr>\n",
       "      <th>2</th>\n",
       "      <td>[web, email, mobile]</td>\n",
       "      <td>0</td>\n",
       "      <td>4</td>\n",
       "      <td>3f207df678b143eea3cee63160fa8bed</td>\n",
       "      <td>informational</td>\n",
       "      <td>0</td>\n",
       "      <td>3</td>\n",
       "      <td>1</td>\n",
       "      <td>1</td>\n",
       "      <td>1</td>\n",
       "      <td>0</td>\n",
       "      <td>0</td>\n",
       "      <td>0</td>\n",
       "      <td>1</td>\n",
       "    </tr>\n",
       "    <tr>\n",
       "      <th>3</th>\n",
       "      <td>[web, email, mobile]</td>\n",
       "      <td>5</td>\n",
       "      <td>7</td>\n",
       "      <td>9b98b8c7a33c4b65b9aebfe6a799e6d9</td>\n",
       "      <td>bogo</td>\n",
       "      <td>5</td>\n",
       "      <td>4</td>\n",
       "      <td>1</td>\n",
       "      <td>1</td>\n",
       "      <td>1</td>\n",
       "      <td>0</td>\n",
       "      <td>1</td>\n",
       "      <td>0</td>\n",
       "      <td>0</td>\n",
       "    </tr>\n",
       "    <tr>\n",
       "      <th>4</th>\n",
       "      <td>[web, email]</td>\n",
       "      <td>20</td>\n",
       "      <td>10</td>\n",
       "      <td>0b1e1539f2cc45b7b9fa7c272da2e1d7</td>\n",
       "      <td>discount</td>\n",
       "      <td>5</td>\n",
       "      <td>5</td>\n",
       "      <td>1</td>\n",
       "      <td>0</td>\n",
       "      <td>1</td>\n",
       "      <td>0</td>\n",
       "      <td>0</td>\n",
       "      <td>1</td>\n",
       "      <td>0</td>\n",
       "    </tr>\n",
       "    <tr>\n",
       "      <th>5</th>\n",
       "      <td>[web, email, mobile, social]</td>\n",
       "      <td>7</td>\n",
       "      <td>7</td>\n",
       "      <td>2298d6c36e964ae4a3e7e9706d1fb8c2</td>\n",
       "      <td>discount</td>\n",
       "      <td>3</td>\n",
       "      <td>6</td>\n",
       "      <td>1</td>\n",
       "      <td>1</td>\n",
       "      <td>1</td>\n",
       "      <td>1</td>\n",
       "      <td>0</td>\n",
       "      <td>1</td>\n",
       "      <td>0</td>\n",
       "    </tr>\n",
       "    <tr>\n",
       "      <th>6</th>\n",
       "      <td>[web, email, mobile, social]</td>\n",
       "      <td>10</td>\n",
       "      <td>10</td>\n",
       "      <td>fafdcd668e3743c1bb461111dcafc2a4</td>\n",
       "      <td>discount</td>\n",
       "      <td>2</td>\n",
       "      <td>7</td>\n",
       "      <td>1</td>\n",
       "      <td>1</td>\n",
       "      <td>1</td>\n",
       "      <td>1</td>\n",
       "      <td>0</td>\n",
       "      <td>1</td>\n",
       "      <td>0</td>\n",
       "    </tr>\n",
       "    <tr>\n",
       "      <th>7</th>\n",
       "      <td>[email, mobile, social]</td>\n",
       "      <td>0</td>\n",
       "      <td>3</td>\n",
       "      <td>5a8bc65990b245e5a138643cd4eb9837</td>\n",
       "      <td>informational</td>\n",
       "      <td>0</td>\n",
       "      <td>8</td>\n",
       "      <td>1</td>\n",
       "      <td>1</td>\n",
       "      <td>0</td>\n",
       "      <td>1</td>\n",
       "      <td>0</td>\n",
       "      <td>0</td>\n",
       "      <td>1</td>\n",
       "    </tr>\n",
       "    <tr>\n",
       "      <th>8</th>\n",
       "      <td>[web, email, mobile, social]</td>\n",
       "      <td>5</td>\n",
       "      <td>5</td>\n",
       "      <td>f19421c1d4aa40978ebb69ca19b0e20d</td>\n",
       "      <td>bogo</td>\n",
       "      <td>5</td>\n",
       "      <td>9</td>\n",
       "      <td>1</td>\n",
       "      <td>1</td>\n",
       "      <td>1</td>\n",
       "      <td>1</td>\n",
       "      <td>1</td>\n",
       "      <td>0</td>\n",
       "      <td>0</td>\n",
       "    </tr>\n",
       "    <tr>\n",
       "      <th>9</th>\n",
       "      <td>[web, email, mobile]</td>\n",
       "      <td>10</td>\n",
       "      <td>7</td>\n",
       "      <td>2906b810c7d4411798c6938adc9daaa5</td>\n",
       "      <td>discount</td>\n",
       "      <td>2</td>\n",
       "      <td>10</td>\n",
       "      <td>1</td>\n",
       "      <td>1</td>\n",
       "      <td>1</td>\n",
       "      <td>0</td>\n",
       "      <td>0</td>\n",
       "      <td>1</td>\n",
       "      <td>0</td>\n",
       "    </tr>\n",
       "  </tbody>\n",
       "</table>\n",
       "</div>"
      ],
      "text/plain": [
       "                       channels  difficulty  duration  \\\n",
       "0       [email, mobile, social]          10         7   \n",
       "1  [web, email, mobile, social]          10         5   \n",
       "2          [web, email, mobile]           0         4   \n",
       "3          [web, email, mobile]           5         7   \n",
       "4                  [web, email]          20        10   \n",
       "5  [web, email, mobile, social]           7         7   \n",
       "6  [web, email, mobile, social]          10        10   \n",
       "7       [email, mobile, social]           0         3   \n",
       "8  [web, email, mobile, social]           5         5   \n",
       "9          [web, email, mobile]          10         7   \n",
       "\n",
       "                                 id     offer_type  reward  simple_id  email  \\\n",
       "0  ae264e3637204a6fb9bb56bc8210ddfd           bogo      10          1      1   \n",
       "1  4d5c57ea9a6940dd891ad53e9dbe8da0           bogo      10          2      1   \n",
       "2  3f207df678b143eea3cee63160fa8bed  informational       0          3      1   \n",
       "3  9b98b8c7a33c4b65b9aebfe6a799e6d9           bogo       5          4      1   \n",
       "4  0b1e1539f2cc45b7b9fa7c272da2e1d7       discount       5          5      1   \n",
       "5  2298d6c36e964ae4a3e7e9706d1fb8c2       discount       3          6      1   \n",
       "6  fafdcd668e3743c1bb461111dcafc2a4       discount       2          7      1   \n",
       "7  5a8bc65990b245e5a138643cd4eb9837  informational       0          8      1   \n",
       "8  f19421c1d4aa40978ebb69ca19b0e20d           bogo       5          9      1   \n",
       "9  2906b810c7d4411798c6938adc9daaa5       discount       2         10      1   \n",
       "\n",
       "   mobile  web  social  bogo  discount  informational  \n",
       "0       1    0       1     1         0              0  \n",
       "1       1    1       1     1         0              0  \n",
       "2       1    1       0     0         0              1  \n",
       "3       1    1       0     1         0              0  \n",
       "4       0    1       0     0         1              0  \n",
       "5       1    1       1     0         1              0  \n",
       "6       1    1       1     0         1              0  \n",
       "7       1    0       1     0         0              1  \n",
       "8       1    1       1     1         0              0  \n",
       "9       1    1       0     0         1              0  "
      ]
     },
     "execution_count": 6,
     "metadata": {},
     "output_type": "execute_result"
    }
   ],
   "source": [
    "portfolio"
   ]
  },
  {
   "cell_type": "code",
   "execution_count": 7,
   "metadata": {},
   "outputs": [
    {
     "data": {
      "text/html": [
       "<div>\n",
       "<style scoped>\n",
       "    .dataframe tbody tr th:only-of-type {\n",
       "        vertical-align: middle;\n",
       "    }\n",
       "\n",
       "    .dataframe tbody tr th {\n",
       "        vertical-align: top;\n",
       "    }\n",
       "\n",
       "    .dataframe thead th {\n",
       "        text-align: right;\n",
       "    }\n",
       "</style>\n",
       "<table border=\"1\" class=\"dataframe\">\n",
       "  <thead>\n",
       "    <tr style=\"text-align: right;\">\n",
       "      <th></th>\n",
       "      <th>age</th>\n",
       "      <th>became_member_on</th>\n",
       "      <th>gender</th>\n",
       "      <th>id</th>\n",
       "      <th>income</th>\n",
       "    </tr>\n",
       "  </thead>\n",
       "  <tbody>\n",
       "    <tr>\n",
       "      <th>0</th>\n",
       "      <td>118</td>\n",
       "      <td>20170212</td>\n",
       "      <td>None</td>\n",
       "      <td>68be06ca386d4c31939f3a4f0e3dd783</td>\n",
       "      <td>NaN</td>\n",
       "    </tr>\n",
       "    <tr>\n",
       "      <th>1</th>\n",
       "      <td>55</td>\n",
       "      <td>20170715</td>\n",
       "      <td>F</td>\n",
       "      <td>0610b486422d4921ae7d2bf64640c50b</td>\n",
       "      <td>112000.0</td>\n",
       "    </tr>\n",
       "    <tr>\n",
       "      <th>2</th>\n",
       "      <td>118</td>\n",
       "      <td>20180712</td>\n",
       "      <td>None</td>\n",
       "      <td>38fe809add3b4fcf9315a9694bb96ff5</td>\n",
       "      <td>NaN</td>\n",
       "    </tr>\n",
       "    <tr>\n",
       "      <th>3</th>\n",
       "      <td>75</td>\n",
       "      <td>20170509</td>\n",
       "      <td>F</td>\n",
       "      <td>78afa995795e4d85b5d9ceeca43f5fef</td>\n",
       "      <td>100000.0</td>\n",
       "    </tr>\n",
       "    <tr>\n",
       "      <th>4</th>\n",
       "      <td>118</td>\n",
       "      <td>20170804</td>\n",
       "      <td>None</td>\n",
       "      <td>a03223e636434f42ac4c3df47e8bac43</td>\n",
       "      <td>NaN</td>\n",
       "    </tr>\n",
       "  </tbody>\n",
       "</table>\n",
       "</div>"
      ],
      "text/plain": [
       "   age  became_member_on gender                                id    income\n",
       "0  118          20170212   None  68be06ca386d4c31939f3a4f0e3dd783       NaN\n",
       "1   55          20170715      F  0610b486422d4921ae7d2bf64640c50b  112000.0\n",
       "2  118          20180712   None  38fe809add3b4fcf9315a9694bb96ff5       NaN\n",
       "3   75          20170509      F  78afa995795e4d85b5d9ceeca43f5fef  100000.0\n",
       "4  118          20170804   None  a03223e636434f42ac4c3df47e8bac43       NaN"
      ]
     },
     "execution_count": 7,
     "metadata": {},
     "output_type": "execute_result"
    }
   ],
   "source": [
    "profile.head()"
   ]
  },
  {
   "cell_type": "code",
   "execution_count": 8,
   "metadata": {},
   "outputs": [
    {
     "name": "stdout",
     "output_type": "stream",
     "text": [
      "<class 'pandas.core.frame.DataFrame'>\n",
      "RangeIndex: 17000 entries, 0 to 16999\n",
      "Data columns (total 5 columns):\n",
      "age                 17000 non-null int64\n",
      "became_member_on    17000 non-null int64\n",
      "gender              14825 non-null object\n",
      "id                  17000 non-null object\n",
      "income              14825 non-null float64\n",
      "dtypes: float64(1), int64(2), object(2)\n",
      "memory usage: 664.1+ KB\n"
     ]
    }
   ],
   "source": [
    "profile.info()"
   ]
  },
  {
   "cell_type": "code",
   "execution_count": 9,
   "metadata": {},
   "outputs": [],
   "source": [
    "profile['became_member_on'] = profile['became_member_on'].apply(lambda x: pd.to_datetime(str(x), format='%Y%m%d'))"
   ]
  },
  {
   "cell_type": "code",
   "execution_count": 10,
   "metadata": {},
   "outputs": [
    {
     "data": {
      "text/html": [
       "<div>\n",
       "<style scoped>\n",
       "    .dataframe tbody tr th:only-of-type {\n",
       "        vertical-align: middle;\n",
       "    }\n",
       "\n",
       "    .dataframe tbody tr th {\n",
       "        vertical-align: top;\n",
       "    }\n",
       "\n",
       "    .dataframe thead th {\n",
       "        text-align: right;\n",
       "    }\n",
       "</style>\n",
       "<table border=\"1\" class=\"dataframe\">\n",
       "  <thead>\n",
       "    <tr style=\"text-align: right;\">\n",
       "      <th></th>\n",
       "      <th>age</th>\n",
       "      <th>became_member_on</th>\n",
       "      <th>gender</th>\n",
       "      <th>id</th>\n",
       "      <th>income</th>\n",
       "    </tr>\n",
       "  </thead>\n",
       "  <tbody>\n",
       "    <tr>\n",
       "      <th>0</th>\n",
       "      <td>118</td>\n",
       "      <td>2017-02-12</td>\n",
       "      <td>None</td>\n",
       "      <td>68be06ca386d4c31939f3a4f0e3dd783</td>\n",
       "      <td>NaN</td>\n",
       "    </tr>\n",
       "    <tr>\n",
       "      <th>2</th>\n",
       "      <td>118</td>\n",
       "      <td>2018-07-12</td>\n",
       "      <td>None</td>\n",
       "      <td>38fe809add3b4fcf9315a9694bb96ff5</td>\n",
       "      <td>NaN</td>\n",
       "    </tr>\n",
       "    <tr>\n",
       "      <th>4</th>\n",
       "      <td>118</td>\n",
       "      <td>2017-08-04</td>\n",
       "      <td>None</td>\n",
       "      <td>a03223e636434f42ac4c3df47e8bac43</td>\n",
       "      <td>NaN</td>\n",
       "    </tr>\n",
       "    <tr>\n",
       "      <th>6</th>\n",
       "      <td>118</td>\n",
       "      <td>2017-09-25</td>\n",
       "      <td>None</td>\n",
       "      <td>8ec6ce2a7e7949b1bf142def7d0e0586</td>\n",
       "      <td>NaN</td>\n",
       "    </tr>\n",
       "    <tr>\n",
       "      <th>7</th>\n",
       "      <td>118</td>\n",
       "      <td>2017-10-02</td>\n",
       "      <td>None</td>\n",
       "      <td>68617ca6246f4fbc85e91a2a49552598</td>\n",
       "      <td>NaN</td>\n",
       "    </tr>\n",
       "    <tr>\n",
       "      <th>9</th>\n",
       "      <td>118</td>\n",
       "      <td>2016-11-22</td>\n",
       "      <td>None</td>\n",
       "      <td>8974fc5686fe429db53ddde067b88302</td>\n",
       "      <td>NaN</td>\n",
       "    </tr>\n",
       "    <tr>\n",
       "      <th>10</th>\n",
       "      <td>118</td>\n",
       "      <td>2017-08-24</td>\n",
       "      <td>None</td>\n",
       "      <td>c4863c7985cf408faee930f111475da3</td>\n",
       "      <td>NaN</td>\n",
       "    </tr>\n",
       "    <tr>\n",
       "      <th>11</th>\n",
       "      <td>118</td>\n",
       "      <td>2015-09-19</td>\n",
       "      <td>None</td>\n",
       "      <td>148adfcaa27d485b82f323aaaad036bd</td>\n",
       "      <td>NaN</td>\n",
       "    </tr>\n",
       "    <tr>\n",
       "      <th>17</th>\n",
       "      <td>118</td>\n",
       "      <td>2017-08-01</td>\n",
       "      <td>None</td>\n",
       "      <td>744d603ef08c4f33af5a61c8c7628d1c</td>\n",
       "      <td>NaN</td>\n",
       "    </tr>\n",
       "    <tr>\n",
       "      <th>23</th>\n",
       "      <td>118</td>\n",
       "      <td>2017-09-07</td>\n",
       "      <td>None</td>\n",
       "      <td>2b826eba31074a059d63b0ae8f50b7d5</td>\n",
       "      <td>NaN</td>\n",
       "    </tr>\n",
       "    <tr>\n",
       "      <th>26</th>\n",
       "      <td>118</td>\n",
       "      <td>2017-03-30</td>\n",
       "      <td>None</td>\n",
       "      <td>65aba5c617294649aeb624da249e1ee5</td>\n",
       "      <td>NaN</td>\n",
       "    </tr>\n",
       "    <tr>\n",
       "      <th>36</th>\n",
       "      <td>118</td>\n",
       "      <td>2016-07-07</td>\n",
       "      <td>None</td>\n",
       "      <td>4beeb3ed64dd4898b0edf2f6b67426d3</td>\n",
       "      <td>NaN</td>\n",
       "    </tr>\n",
       "    <tr>\n",
       "      <th>39</th>\n",
       "      <td>118</td>\n",
       "      <td>2018-01-13</td>\n",
       "      <td>None</td>\n",
       "      <td>25c906289d154b66bf579693f89481c9</td>\n",
       "      <td>NaN</td>\n",
       "    </tr>\n",
       "    <tr>\n",
       "      <th>44</th>\n",
       "      <td>118</td>\n",
       "      <td>2014-11-11</td>\n",
       "      <td>None</td>\n",
       "      <td>5b8f1f0e0930464f93bb55e59b5a04e0</td>\n",
       "      <td>NaN</td>\n",
       "    </tr>\n",
       "    <tr>\n",
       "      <th>45</th>\n",
       "      <td>118</td>\n",
       "      <td>2017-05-11</td>\n",
       "      <td>None</td>\n",
       "      <td>8be4463721e14d7fa600686bf8c8b2ed</td>\n",
       "      <td>NaN</td>\n",
       "    </tr>\n",
       "    <tr>\n",
       "      <th>54</th>\n",
       "      <td>118</td>\n",
       "      <td>2017-05-28</td>\n",
       "      <td>None</td>\n",
       "      <td>81ac76e4f2fe4a6bb5ebdc0f19cecc56</td>\n",
       "      <td>NaN</td>\n",
       "    </tr>\n",
       "    <tr>\n",
       "      <th>56</th>\n",
       "      <td>118</td>\n",
       "      <td>2017-10-13</td>\n",
       "      <td>None</td>\n",
       "      <td>020d3a52b9ce432ea5f98fc58e9bfcc4</td>\n",
       "      <td>NaN</td>\n",
       "    </tr>\n",
       "    <tr>\n",
       "      <th>57</th>\n",
       "      <td>118</td>\n",
       "      <td>2015-12-20</td>\n",
       "      <td>None</td>\n",
       "      <td>4be1127413db496d8103c783ae72058b</td>\n",
       "      <td>NaN</td>\n",
       "    </tr>\n",
       "    <tr>\n",
       "      <th>80</th>\n",
       "      <td>118</td>\n",
       "      <td>2017-09-18</td>\n",
       "      <td>None</td>\n",
       "      <td>9d8d6bb2fc544a9c802888971ee3e8b1</td>\n",
       "      <td>NaN</td>\n",
       "    </tr>\n",
       "    <tr>\n",
       "      <th>84</th>\n",
       "      <td>118</td>\n",
       "      <td>2015-09-20</td>\n",
       "      <td>None</td>\n",
       "      <td>a89752cdfdf24779aa22faa2bc24e7c2</td>\n",
       "      <td>NaN</td>\n",
       "    </tr>\n",
       "    <tr>\n",
       "      <th>96</th>\n",
       "      <td>118</td>\n",
       "      <td>2016-08-06</td>\n",
       "      <td>None</td>\n",
       "      <td>53bac762af27471eb294ff89ca1bae2c</td>\n",
       "      <td>NaN</td>\n",
       "    </tr>\n",
       "    <tr>\n",
       "      <th>103</th>\n",
       "      <td>118</td>\n",
       "      <td>2017-02-23</td>\n",
       "      <td>None</td>\n",
       "      <td>488773cae11f4b71875bfccd4e3e99f2</td>\n",
       "      <td>NaN</td>\n",
       "    </tr>\n",
       "    <tr>\n",
       "      <th>104</th>\n",
       "      <td>118</td>\n",
       "      <td>2017-08-23</td>\n",
       "      <td>None</td>\n",
       "      <td>182e68952b474700b171e21b85c258ac</td>\n",
       "      <td>NaN</td>\n",
       "    </tr>\n",
       "    <tr>\n",
       "      <th>108</th>\n",
       "      <td>118</td>\n",
       "      <td>2016-01-30</td>\n",
       "      <td>None</td>\n",
       "      <td>5e9c83e8ab4d4e9ca83f3256d83ca756</td>\n",
       "      <td>NaN</td>\n",
       "    </tr>\n",
       "    <tr>\n",
       "      <th>121</th>\n",
       "      <td>118</td>\n",
       "      <td>2015-07-30</td>\n",
       "      <td>None</td>\n",
       "      <td>c099206f76b1414db7552f163520053c</td>\n",
       "      <td>NaN</td>\n",
       "    </tr>\n",
       "    <tr>\n",
       "      <th>122</th>\n",
       "      <td>118</td>\n",
       "      <td>2017-11-25</td>\n",
       "      <td>None</td>\n",
       "      <td>e6d3eebb535e44aca1323edde5c346fa</td>\n",
       "      <td>NaN</td>\n",
       "    </tr>\n",
       "    <tr>\n",
       "      <th>128</th>\n",
       "      <td>118</td>\n",
       "      <td>2016-04-18</td>\n",
       "      <td>None</td>\n",
       "      <td>baba98dba43e42ae8e86cbd70725e201</td>\n",
       "      <td>NaN</td>\n",
       "    </tr>\n",
       "    <tr>\n",
       "      <th>143</th>\n",
       "      <td>118</td>\n",
       "      <td>2016-10-18</td>\n",
       "      <td>None</td>\n",
       "      <td>58748c1cf9f746838c6ec62acdff28ad</td>\n",
       "      <td>NaN</td>\n",
       "    </tr>\n",
       "    <tr>\n",
       "      <th>169</th>\n",
       "      <td>118</td>\n",
       "      <td>2015-09-05</td>\n",
       "      <td>None</td>\n",
       "      <td>770df32893694100afc703ea9c9df401</td>\n",
       "      <td>NaN</td>\n",
       "    </tr>\n",
       "    <tr>\n",
       "      <th>172</th>\n",
       "      <td>118</td>\n",
       "      <td>2018-01-14</td>\n",
       "      <td>None</td>\n",
       "      <td>50b92ea51e2649dfbf7120d5e554e991</td>\n",
       "      <td>NaN</td>\n",
       "    </tr>\n",
       "    <tr>\n",
       "      <th>...</th>\n",
       "      <td>...</td>\n",
       "      <td>...</td>\n",
       "      <td>...</td>\n",
       "      <td>...</td>\n",
       "      <td>...</td>\n",
       "    </tr>\n",
       "    <tr>\n",
       "      <th>16820</th>\n",
       "      <td>118</td>\n",
       "      <td>2015-10-15</td>\n",
       "      <td>None</td>\n",
       "      <td>64257cb56316491fae38e62f2687a66c</td>\n",
       "      <td>NaN</td>\n",
       "    </tr>\n",
       "    <tr>\n",
       "      <th>16829</th>\n",
       "      <td>118</td>\n",
       "      <td>2017-10-07</td>\n",
       "      <td>None</td>\n",
       "      <td>56a0b671fa0347beb8b60011a15800aa</td>\n",
       "      <td>NaN</td>\n",
       "    </tr>\n",
       "    <tr>\n",
       "      <th>16831</th>\n",
       "      <td>118</td>\n",
       "      <td>2017-09-10</td>\n",
       "      <td>None</td>\n",
       "      <td>060c0b9181674d03aa181b75353b9422</td>\n",
       "      <td>NaN</td>\n",
       "    </tr>\n",
       "    <tr>\n",
       "      <th>16835</th>\n",
       "      <td>118</td>\n",
       "      <td>2016-12-11</td>\n",
       "      <td>None</td>\n",
       "      <td>587453e2944b4c6699519a217bf87de6</td>\n",
       "      <td>NaN</td>\n",
       "    </tr>\n",
       "    <tr>\n",
       "      <th>16839</th>\n",
       "      <td>118</td>\n",
       "      <td>2018-06-26</td>\n",
       "      <td>None</td>\n",
       "      <td>d6063a30185b4e60b58a445bacec5f56</td>\n",
       "      <td>NaN</td>\n",
       "    </tr>\n",
       "    <tr>\n",
       "      <th>16842</th>\n",
       "      <td>118</td>\n",
       "      <td>2015-11-10</td>\n",
       "      <td>None</td>\n",
       "      <td>a225189b10a141d5bb1ff0a05265da4c</td>\n",
       "      <td>NaN</td>\n",
       "    </tr>\n",
       "    <tr>\n",
       "      <th>16844</th>\n",
       "      <td>118</td>\n",
       "      <td>2017-02-28</td>\n",
       "      <td>None</td>\n",
       "      <td>4342cb3414534aaca96ac523edc82654</td>\n",
       "      <td>NaN</td>\n",
       "    </tr>\n",
       "    <tr>\n",
       "      <th>16845</th>\n",
       "      <td>118</td>\n",
       "      <td>2015-08-15</td>\n",
       "      <td>None</td>\n",
       "      <td>d1477e69857f42d18929f6f29b3be427</td>\n",
       "      <td>NaN</td>\n",
       "    </tr>\n",
       "    <tr>\n",
       "      <th>16852</th>\n",
       "      <td>118</td>\n",
       "      <td>2014-06-05</td>\n",
       "      <td>None</td>\n",
       "      <td>6c0df9b1d3b8401c8098c7c7f9977d89</td>\n",
       "      <td>NaN</td>\n",
       "    </tr>\n",
       "    <tr>\n",
       "      <th>16853</th>\n",
       "      <td>118</td>\n",
       "      <td>2017-11-23</td>\n",
       "      <td>None</td>\n",
       "      <td>7b3b8100d6444861803cefc6b13c9a43</td>\n",
       "      <td>NaN</td>\n",
       "    </tr>\n",
       "    <tr>\n",
       "      <th>16856</th>\n",
       "      <td>118</td>\n",
       "      <td>2015-07-29</td>\n",
       "      <td>None</td>\n",
       "      <td>3a02d786fbc143edb257665ad54c5c09</td>\n",
       "      <td>NaN</td>\n",
       "    </tr>\n",
       "    <tr>\n",
       "      <th>16861</th>\n",
       "      <td>118</td>\n",
       "      <td>2017-12-12</td>\n",
       "      <td>None</td>\n",
       "      <td>8f4364144e0548f885b390f28aabe2b8</td>\n",
       "      <td>NaN</td>\n",
       "    </tr>\n",
       "    <tr>\n",
       "      <th>16869</th>\n",
       "      <td>118</td>\n",
       "      <td>2016-06-07</td>\n",
       "      <td>None</td>\n",
       "      <td>1efb4a45f5c34db4b07ebd19bdfc1b41</td>\n",
       "      <td>NaN</td>\n",
       "    </tr>\n",
       "    <tr>\n",
       "      <th>16875</th>\n",
       "      <td>118</td>\n",
       "      <td>2017-01-29</td>\n",
       "      <td>None</td>\n",
       "      <td>113f3f07ac2b4f8b940d6136233ae3ee</td>\n",
       "      <td>NaN</td>\n",
       "    </tr>\n",
       "    <tr>\n",
       "      <th>16877</th>\n",
       "      <td>118</td>\n",
       "      <td>2018-03-07</td>\n",
       "      <td>None</td>\n",
       "      <td>b6f74fc8e1664cfb9b44834dd9f7cf48</td>\n",
       "      <td>NaN</td>\n",
       "    </tr>\n",
       "    <tr>\n",
       "      <th>16885</th>\n",
       "      <td>118</td>\n",
       "      <td>2015-08-04</td>\n",
       "      <td>None</td>\n",
       "      <td>123ec648e228460589182607c0db4dd5</td>\n",
       "      <td>NaN</td>\n",
       "    </tr>\n",
       "    <tr>\n",
       "      <th>16906</th>\n",
       "      <td>118</td>\n",
       "      <td>2017-07-29</td>\n",
       "      <td>None</td>\n",
       "      <td>09f61d1d6e05402ca923d614dda52d57</td>\n",
       "      <td>NaN</td>\n",
       "    </tr>\n",
       "    <tr>\n",
       "      <th>16915</th>\n",
       "      <td>118</td>\n",
       "      <td>2017-10-21</td>\n",
       "      <td>None</td>\n",
       "      <td>7b32b3085ad540a58482c091b1dca914</td>\n",
       "      <td>NaN</td>\n",
       "    </tr>\n",
       "    <tr>\n",
       "      <th>16923</th>\n",
       "      <td>118</td>\n",
       "      <td>2016-02-09</td>\n",
       "      <td>None</td>\n",
       "      <td>54ed2d25754a486fba36eb5c7541203a</td>\n",
       "      <td>NaN</td>\n",
       "    </tr>\n",
       "    <tr>\n",
       "      <th>16931</th>\n",
       "      <td>118</td>\n",
       "      <td>2017-09-13</td>\n",
       "      <td>None</td>\n",
       "      <td>e6843a4996574eb693ab864ecc406d56</td>\n",
       "      <td>NaN</td>\n",
       "    </tr>\n",
       "    <tr>\n",
       "      <th>16942</th>\n",
       "      <td>118</td>\n",
       "      <td>2017-07-28</td>\n",
       "      <td>None</td>\n",
       "      <td>ba12d53863b3456f930ac62e2503fe48</td>\n",
       "      <td>NaN</td>\n",
       "    </tr>\n",
       "    <tr>\n",
       "      <th>16951</th>\n",
       "      <td>118</td>\n",
       "      <td>2017-10-29</td>\n",
       "      <td>None</td>\n",
       "      <td>5ca2620962114246ab218fc648eb3934</td>\n",
       "      <td>NaN</td>\n",
       "    </tr>\n",
       "    <tr>\n",
       "      <th>16953</th>\n",
       "      <td>118</td>\n",
       "      <td>2017-09-01</td>\n",
       "      <td>None</td>\n",
       "      <td>653d8f383fab43d4a93b10b02bd67266</td>\n",
       "      <td>NaN</td>\n",
       "    </tr>\n",
       "    <tr>\n",
       "      <th>16969</th>\n",
       "      <td>118</td>\n",
       "      <td>2013-12-12</td>\n",
       "      <td>None</td>\n",
       "      <td>f19d9482309d4e93ad74935f9e46e44c</td>\n",
       "      <td>NaN</td>\n",
       "    </tr>\n",
       "    <tr>\n",
       "      <th>16977</th>\n",
       "      <td>118</td>\n",
       "      <td>2016-06-09</td>\n",
       "      <td>None</td>\n",
       "      <td>eb7dd979f4644052a5c401a01f129132</td>\n",
       "      <td>NaN</td>\n",
       "    </tr>\n",
       "    <tr>\n",
       "      <th>16980</th>\n",
       "      <td>118</td>\n",
       "      <td>2016-09-01</td>\n",
       "      <td>None</td>\n",
       "      <td>5c686d09ca4d475a8f750f2ba07e0440</td>\n",
       "      <td>NaN</td>\n",
       "    </tr>\n",
       "    <tr>\n",
       "      <th>16982</th>\n",
       "      <td>118</td>\n",
       "      <td>2016-04-15</td>\n",
       "      <td>None</td>\n",
       "      <td>d9ca82f550ac4ee58b6299cf1e5c824a</td>\n",
       "      <td>NaN</td>\n",
       "    </tr>\n",
       "    <tr>\n",
       "      <th>16989</th>\n",
       "      <td>118</td>\n",
       "      <td>2018-03-05</td>\n",
       "      <td>None</td>\n",
       "      <td>ca45ee1883624304bac1e4c8a114f045</td>\n",
       "      <td>NaN</td>\n",
       "    </tr>\n",
       "    <tr>\n",
       "      <th>16991</th>\n",
       "      <td>118</td>\n",
       "      <td>2016-01-16</td>\n",
       "      <td>None</td>\n",
       "      <td>a9a20fa8b5504360beb4e7c8712f8306</td>\n",
       "      <td>NaN</td>\n",
       "    </tr>\n",
       "    <tr>\n",
       "      <th>16994</th>\n",
       "      <td>118</td>\n",
       "      <td>2015-12-11</td>\n",
       "      <td>None</td>\n",
       "      <td>c02b10e8752c4d8e9b73f918558531f7</td>\n",
       "      <td>NaN</td>\n",
       "    </tr>\n",
       "  </tbody>\n",
       "</table>\n",
       "<p>2175 rows × 5 columns</p>\n",
       "</div>"
      ],
      "text/plain": [
       "       age became_member_on gender                                id  income\n",
       "0      118       2017-02-12   None  68be06ca386d4c31939f3a4f0e3dd783     NaN\n",
       "2      118       2018-07-12   None  38fe809add3b4fcf9315a9694bb96ff5     NaN\n",
       "4      118       2017-08-04   None  a03223e636434f42ac4c3df47e8bac43     NaN\n",
       "6      118       2017-09-25   None  8ec6ce2a7e7949b1bf142def7d0e0586     NaN\n",
       "7      118       2017-10-02   None  68617ca6246f4fbc85e91a2a49552598     NaN\n",
       "9      118       2016-11-22   None  8974fc5686fe429db53ddde067b88302     NaN\n",
       "10     118       2017-08-24   None  c4863c7985cf408faee930f111475da3     NaN\n",
       "11     118       2015-09-19   None  148adfcaa27d485b82f323aaaad036bd     NaN\n",
       "17     118       2017-08-01   None  744d603ef08c4f33af5a61c8c7628d1c     NaN\n",
       "23     118       2017-09-07   None  2b826eba31074a059d63b0ae8f50b7d5     NaN\n",
       "26     118       2017-03-30   None  65aba5c617294649aeb624da249e1ee5     NaN\n",
       "36     118       2016-07-07   None  4beeb3ed64dd4898b0edf2f6b67426d3     NaN\n",
       "39     118       2018-01-13   None  25c906289d154b66bf579693f89481c9     NaN\n",
       "44     118       2014-11-11   None  5b8f1f0e0930464f93bb55e59b5a04e0     NaN\n",
       "45     118       2017-05-11   None  8be4463721e14d7fa600686bf8c8b2ed     NaN\n",
       "54     118       2017-05-28   None  81ac76e4f2fe4a6bb5ebdc0f19cecc56     NaN\n",
       "56     118       2017-10-13   None  020d3a52b9ce432ea5f98fc58e9bfcc4     NaN\n",
       "57     118       2015-12-20   None  4be1127413db496d8103c783ae72058b     NaN\n",
       "80     118       2017-09-18   None  9d8d6bb2fc544a9c802888971ee3e8b1     NaN\n",
       "84     118       2015-09-20   None  a89752cdfdf24779aa22faa2bc24e7c2     NaN\n",
       "96     118       2016-08-06   None  53bac762af27471eb294ff89ca1bae2c     NaN\n",
       "103    118       2017-02-23   None  488773cae11f4b71875bfccd4e3e99f2     NaN\n",
       "104    118       2017-08-23   None  182e68952b474700b171e21b85c258ac     NaN\n",
       "108    118       2016-01-30   None  5e9c83e8ab4d4e9ca83f3256d83ca756     NaN\n",
       "121    118       2015-07-30   None  c099206f76b1414db7552f163520053c     NaN\n",
       "122    118       2017-11-25   None  e6d3eebb535e44aca1323edde5c346fa     NaN\n",
       "128    118       2016-04-18   None  baba98dba43e42ae8e86cbd70725e201     NaN\n",
       "143    118       2016-10-18   None  58748c1cf9f746838c6ec62acdff28ad     NaN\n",
       "169    118       2015-09-05   None  770df32893694100afc703ea9c9df401     NaN\n",
       "172    118       2018-01-14   None  50b92ea51e2649dfbf7120d5e554e991     NaN\n",
       "...    ...              ...    ...                               ...     ...\n",
       "16820  118       2015-10-15   None  64257cb56316491fae38e62f2687a66c     NaN\n",
       "16829  118       2017-10-07   None  56a0b671fa0347beb8b60011a15800aa     NaN\n",
       "16831  118       2017-09-10   None  060c0b9181674d03aa181b75353b9422     NaN\n",
       "16835  118       2016-12-11   None  587453e2944b4c6699519a217bf87de6     NaN\n",
       "16839  118       2018-06-26   None  d6063a30185b4e60b58a445bacec5f56     NaN\n",
       "16842  118       2015-11-10   None  a225189b10a141d5bb1ff0a05265da4c     NaN\n",
       "16844  118       2017-02-28   None  4342cb3414534aaca96ac523edc82654     NaN\n",
       "16845  118       2015-08-15   None  d1477e69857f42d18929f6f29b3be427     NaN\n",
       "16852  118       2014-06-05   None  6c0df9b1d3b8401c8098c7c7f9977d89     NaN\n",
       "16853  118       2017-11-23   None  7b3b8100d6444861803cefc6b13c9a43     NaN\n",
       "16856  118       2015-07-29   None  3a02d786fbc143edb257665ad54c5c09     NaN\n",
       "16861  118       2017-12-12   None  8f4364144e0548f885b390f28aabe2b8     NaN\n",
       "16869  118       2016-06-07   None  1efb4a45f5c34db4b07ebd19bdfc1b41     NaN\n",
       "16875  118       2017-01-29   None  113f3f07ac2b4f8b940d6136233ae3ee     NaN\n",
       "16877  118       2018-03-07   None  b6f74fc8e1664cfb9b44834dd9f7cf48     NaN\n",
       "16885  118       2015-08-04   None  123ec648e228460589182607c0db4dd5     NaN\n",
       "16906  118       2017-07-29   None  09f61d1d6e05402ca923d614dda52d57     NaN\n",
       "16915  118       2017-10-21   None  7b32b3085ad540a58482c091b1dca914     NaN\n",
       "16923  118       2016-02-09   None  54ed2d25754a486fba36eb5c7541203a     NaN\n",
       "16931  118       2017-09-13   None  e6843a4996574eb693ab864ecc406d56     NaN\n",
       "16942  118       2017-07-28   None  ba12d53863b3456f930ac62e2503fe48     NaN\n",
       "16951  118       2017-10-29   None  5ca2620962114246ab218fc648eb3934     NaN\n",
       "16953  118       2017-09-01   None  653d8f383fab43d4a93b10b02bd67266     NaN\n",
       "16969  118       2013-12-12   None  f19d9482309d4e93ad74935f9e46e44c     NaN\n",
       "16977  118       2016-06-09   None  eb7dd979f4644052a5c401a01f129132     NaN\n",
       "16980  118       2016-09-01   None  5c686d09ca4d475a8f750f2ba07e0440     NaN\n",
       "16982  118       2016-04-15   None  d9ca82f550ac4ee58b6299cf1e5c824a     NaN\n",
       "16989  118       2018-03-05   None  ca45ee1883624304bac1e4c8a114f045     NaN\n",
       "16991  118       2016-01-16   None  a9a20fa8b5504360beb4e7c8712f8306     NaN\n",
       "16994  118       2015-12-11   None  c02b10e8752c4d8e9b73f918558531f7     NaN\n",
       "\n",
       "[2175 rows x 5 columns]"
      ]
     },
     "execution_count": 10,
     "metadata": {},
     "output_type": "execute_result"
    }
   ],
   "source": [
    "profile[profile['income'].isnull()]"
   ]
  },
  {
   "cell_type": "code",
   "execution_count": 11,
   "metadata": {},
   "outputs": [
    {
     "data": {
      "text/plain": [
       "array([118])"
      ]
     },
     "execution_count": 11,
     "metadata": {},
     "output_type": "execute_result"
    }
   ],
   "source": [
    "profile[profile['income'].isnull()]['age'].unique()"
   ]
  },
  {
   "cell_type": "code",
   "execution_count": 12,
   "metadata": {},
   "outputs": [
    {
     "data": {
      "text/plain": [
       "array([118])"
      ]
     },
     "execution_count": 12,
     "metadata": {},
     "output_type": "execute_result"
    }
   ],
   "source": [
    "profile[profile['gender'].isnull()]['age'].unique()"
   ]
  },
  {
   "cell_type": "markdown",
   "metadata": {},
   "source": [
    "> Income and gender are null all have age 118"
   ]
  },
  {
   "cell_type": "code",
   "execution_count": 13,
   "metadata": {
    "scrolled": true
   },
   "outputs": [
    {
     "data": {
      "text/plain": [
       "age\n",
       "18       70\n",
       "19      135\n",
       "20      135\n",
       "21      140\n",
       "22      131\n",
       "23      126\n",
       "24      139\n",
       "25      136\n",
       "26      157\n",
       "27      139\n",
       "28      137\n",
       "29      129\n",
       "30      131\n",
       "31      113\n",
       "32      139\n",
       "33      152\n",
       "34      147\n",
       "35      118\n",
       "36      175\n",
       "37      197\n",
       "38      172\n",
       "39      182\n",
       "40      202\n",
       "41      189\n",
       "42      227\n",
       "43      215\n",
       "44      192\n",
       "45      231\n",
       "46      212\n",
       "47      232\n",
       "       ... \n",
       "73      209\n",
       "74      193\n",
       "75      159\n",
       "76      155\n",
       "77      141\n",
       "78      135\n",
       "79      117\n",
       "80      116\n",
       "81      118\n",
       "82      105\n",
       "83      102\n",
       "84       83\n",
       "85       70\n",
       "86       54\n",
       "87       66\n",
       "88       64\n",
       "89       53\n",
       "90       52\n",
       "91       47\n",
       "92       40\n",
       "93       29\n",
       "94       33\n",
       "95       22\n",
       "96        8\n",
       "97       13\n",
       "98        5\n",
       "99        5\n",
       "100      12\n",
       "101       5\n",
       "118    2175\n",
       "Length: 85, dtype: int64"
      ]
     },
     "execution_count": 13,
     "metadata": {},
     "output_type": "execute_result"
    }
   ],
   "source": [
    "profile.groupby('age').size()"
   ]
  },
  {
   "cell_type": "markdown",
   "metadata": {},
   "source": [
    "> Age 118 all have missing value in gender and income"
   ]
  },
  {
   "cell_type": "markdown",
   "metadata": {},
   "source": [
    "#### Check the distribution of the age"
   ]
  },
  {
   "cell_type": "code",
   "execution_count": 14,
   "metadata": {
    "scrolled": true
   },
   "outputs": [
    {
     "data": {
      "image/png": "[encoded data removed]",
      "text/plain": [
       "<matplotlib.figure.Figure at 0x7f447ec09b38>"
      ]
     },
     "metadata": {
      "needs_background": "light"
     },
     "output_type": "display_data"
    }
   ],
   "source": [
    "plt.hist(profile.query('age != 118')['age'])\n",
    "plt.title('Distribution of member age');"
   ]
  },
  {
   "cell_type": "code",
   "execution_count": 15,
   "metadata": {},
   "outputs": [
    {
     "data": {
      "image/png": "[encoded data removed]",
      "text/plain": [
       "<matplotlib.figure.Figure at 0x7f447eda5c50>"
      ]
     },
     "metadata": {
      "needs_background": "light"
     },
     "output_type": "display_data"
    }
   ],
   "source": [
    "plt.bar(profile.query('age != 118').groupby(['gender']).size().index,profile.query('age != 118').groupby(['gender']).size().values)\n",
    "plt.title('Counts of gender');"
   ]
  },
  {
   "cell_type": "code",
   "execution_count": 16,
   "metadata": {},
   "outputs": [
    {
     "data": {
      "text/plain": [
       "count    14825.000000\n",
       "mean        54.393524\n",
       "std         17.383705\n",
       "min         18.000000\n",
       "25%         42.000000\n",
       "50%         55.000000\n",
       "75%         66.000000\n",
       "max        101.000000\n",
       "Name: age, dtype: float64"
      ]
     },
     "execution_count": 16,
     "metadata": {},
     "output_type": "execute_result"
    }
   ],
   "source": [
    "profile.query('age != 118')['age'].describe()"
   ]
  },
  {
   "cell_type": "code",
   "execution_count": 17,
   "metadata": {},
   "outputs": [
    {
     "data": {
      "image/png": "[encoded data removed]",
      "text/plain": [
       "<matplotlib.figure.Figure at 0x7f447ecb7e80>"
      ]
     },
     "metadata": {
      "needs_background": "light"
     },
     "output_type": "display_data"
    }
   ],
   "source": [
    "plt.hist(profile.query('age != 118')['income'])\n",
    "plt.title('Distribution of member income');"
   ]
  },
  {
   "cell_type": "code",
   "execution_count": 18,
   "metadata": {},
   "outputs": [
    {
     "name": "stdout",
     "output_type": "stream",
     "text": [
      "0    73000.0\n",
      "dtype: float64\n"
     ]
    },
    {
     "data": {
      "text/plain": [
       "count     14825.000000\n",
       "mean      65404.991568\n",
       "std       21598.299410\n",
       "min       30000.000000\n",
       "25%       49000.000000\n",
       "50%       64000.000000\n",
       "75%       80000.000000\n",
       "max      120000.000000\n",
       "Name: income, dtype: float64"
      ]
     },
     "execution_count": 18,
     "metadata": {},
     "output_type": "execute_result"
    }
   ],
   "source": [
    "print(profile.query('age != 118')['income'].mode())\n",
    "profile.query('age != 118')['income'].describe()"
   ]
  },
  {
   "cell_type": "code",
   "execution_count": 19,
   "metadata": {},
   "outputs": [
    {
     "data": {
      "text/html": [
       "<div>\n",
       "<style scoped>\n",
       "    .dataframe tbody tr th:only-of-type {\n",
       "        vertical-align: middle;\n",
       "    }\n",
       "\n",
       "    .dataframe tbody tr th {\n",
       "        vertical-align: top;\n",
       "    }\n",
       "\n",
       "    .dataframe thead th {\n",
       "        text-align: right;\n",
       "    }\n",
       "</style>\n",
       "<table border=\"1\" class=\"dataframe\">\n",
       "  <thead>\n",
       "    <tr style=\"text-align: right;\">\n",
       "      <th></th>\n",
       "      <th>age</th>\n",
       "      <th>became_member_on</th>\n",
       "      <th>gender</th>\n",
       "      <th>id</th>\n",
       "      <th>income</th>\n",
       "    </tr>\n",
       "  </thead>\n",
       "  <tbody>\n",
       "    <tr>\n",
       "      <th>0</th>\n",
       "      <td>118</td>\n",
       "      <td>2017-02-12</td>\n",
       "      <td>M</td>\n",
       "      <td>68be06ca386d4c31939f3a4f0e3dd783</td>\n",
       "      <td>65405.0</td>\n",
       "    </tr>\n",
       "    <tr>\n",
       "      <th>1</th>\n",
       "      <td>55</td>\n",
       "      <td>2017-07-15</td>\n",
       "      <td>F</td>\n",
       "      <td>0610b486422d4921ae7d2bf64640c50b</td>\n",
       "      <td>112000.0</td>\n",
       "    </tr>\n",
       "    <tr>\n",
       "      <th>2</th>\n",
       "      <td>118</td>\n",
       "      <td>2018-07-12</td>\n",
       "      <td>M</td>\n",
       "      <td>38fe809add3b4fcf9315a9694bb96ff5</td>\n",
       "      <td>65405.0</td>\n",
       "    </tr>\n",
       "    <tr>\n",
       "      <th>3</th>\n",
       "      <td>75</td>\n",
       "      <td>2017-05-09</td>\n",
       "      <td>F</td>\n",
       "      <td>78afa995795e4d85b5d9ceeca43f5fef</td>\n",
       "      <td>100000.0</td>\n",
       "    </tr>\n",
       "    <tr>\n",
       "      <th>4</th>\n",
       "      <td>118</td>\n",
       "      <td>2017-08-04</td>\n",
       "      <td>F</td>\n",
       "      <td>a03223e636434f42ac4c3df47e8bac43</td>\n",
       "      <td>65405.0</td>\n",
       "    </tr>\n",
       "  </tbody>\n",
       "</table>\n",
       "</div>"
      ],
      "text/plain": [
       "   age became_member_on gender                                id    income\n",
       "0  118       2017-02-12      M  68be06ca386d4c31939f3a4f0e3dd783   65405.0\n",
       "1   55       2017-07-15      F  0610b486422d4921ae7d2bf64640c50b  112000.0\n",
       "2  118       2018-07-12      M  38fe809add3b4fcf9315a9694bb96ff5   65405.0\n",
       "3   75       2017-05-09      F  78afa995795e4d85b5d9ceeca43f5fef  100000.0\n",
       "4  118       2017-08-04      F  a03223e636434f42ac4c3df47e8bac43   65405.0"
      ]
     },
     "execution_count": 19,
     "metadata": {},
     "output_type": "execute_result"
    }
   ],
   "source": [
    "def gender_na(x):\n",
    "    if not x:\n",
    "        data = profile.query('age != 118')['gender']\n",
    "        gender = np.random.choice(data)\n",
    "        return gender\n",
    "    else:\n",
    "        return x\n",
    "profile['gender'] = profile['gender'].apply(lambda x: gender_na(x))\n",
    "profile['income'] = profile['income'].fillna(round(profile['income'].mean()))\n",
    "profile.head()"
   ]
  },
  {
   "cell_type": "code",
   "execution_count": 20,
   "metadata": {},
   "outputs": [
    {
     "data": {
      "text/html": [
       "<div>\n",
       "<style scoped>\n",
       "    .dataframe tbody tr th:only-of-type {\n",
       "        vertical-align: middle;\n",
       "    }\n",
       "\n",
       "    .dataframe tbody tr th {\n",
       "        vertical-align: top;\n",
       "    }\n",
       "\n",
       "    .dataframe thead th {\n",
       "        text-align: right;\n",
       "    }\n",
       "</style>\n",
       "<table border=\"1\" class=\"dataframe\">\n",
       "  <thead>\n",
       "    <tr style=\"text-align: right;\">\n",
       "      <th></th>\n",
       "      <th>age</th>\n",
       "      <th>became_member_on</th>\n",
       "      <th>gender</th>\n",
       "      <th>id</th>\n",
       "      <th>income</th>\n",
       "    </tr>\n",
       "  </thead>\n",
       "  <tbody>\n",
       "    <tr>\n",
       "      <th>0</th>\n",
       "      <td>54.0</td>\n",
       "      <td>2017-02-12</td>\n",
       "      <td>M</td>\n",
       "      <td>68be06ca386d4c31939f3a4f0e3dd783</td>\n",
       "      <td>65405.0</td>\n",
       "    </tr>\n",
       "    <tr>\n",
       "      <th>1</th>\n",
       "      <td>55.0</td>\n",
       "      <td>2017-07-15</td>\n",
       "      <td>F</td>\n",
       "      <td>0610b486422d4921ae7d2bf64640c50b</td>\n",
       "      <td>112000.0</td>\n",
       "    </tr>\n",
       "    <tr>\n",
       "      <th>2</th>\n",
       "      <td>54.0</td>\n",
       "      <td>2018-07-12</td>\n",
       "      <td>M</td>\n",
       "      <td>38fe809add3b4fcf9315a9694bb96ff5</td>\n",
       "      <td>65405.0</td>\n",
       "    </tr>\n",
       "    <tr>\n",
       "      <th>3</th>\n",
       "      <td>75.0</td>\n",
       "      <td>2017-05-09</td>\n",
       "      <td>F</td>\n",
       "      <td>78afa995795e4d85b5d9ceeca43f5fef</td>\n",
       "      <td>100000.0</td>\n",
       "    </tr>\n",
       "    <tr>\n",
       "      <th>4</th>\n",
       "      <td>54.0</td>\n",
       "      <td>2017-08-04</td>\n",
       "      <td>F</td>\n",
       "      <td>a03223e636434f42ac4c3df47e8bac43</td>\n",
       "      <td>65405.0</td>\n",
       "    </tr>\n",
       "  </tbody>\n",
       "</table>\n",
       "</div>"
      ],
      "text/plain": [
       "    age became_member_on gender                                id    income\n",
       "0  54.0       2017-02-12      M  68be06ca386d4c31939f3a4f0e3dd783   65405.0\n",
       "1  55.0       2017-07-15      F  0610b486422d4921ae7d2bf64640c50b  112000.0\n",
       "2  54.0       2018-07-12      M  38fe809add3b4fcf9315a9694bb96ff5   65405.0\n",
       "3  75.0       2017-05-09      F  78afa995795e4d85b5d9ceeca43f5fef  100000.0\n",
       "4  54.0       2017-08-04      F  a03223e636434f42ac4c3df47e8bac43   65405.0"
      ]
     },
     "execution_count": 20,
     "metadata": {},
     "output_type": "execute_result"
    }
   ],
   "source": [
    "def clean_age_118(x):\n",
    "    if x == 118:\n",
    "        return round(profile.query('age !=118')['age'].mean())\n",
    "    else:\n",
    "        return x\n",
    "profile['age'] = profile.age.apply(lambda x: clean_age_118(x))\n",
    "profile.head()"
   ]
  },
  {
   "cell_type": "code",
   "execution_count": 21,
   "metadata": {},
   "outputs": [
    {
     "data": {
      "text/html": [
       "<div>\n",
       "<style scoped>\n",
       "    .dataframe tbody tr th:only-of-type {\n",
       "        vertical-align: middle;\n",
       "    }\n",
       "\n",
       "    .dataframe tbody tr th {\n",
       "        vertical-align: top;\n",
       "    }\n",
       "\n",
       "    .dataframe thead th {\n",
       "        text-align: right;\n",
       "    }\n",
       "</style>\n",
       "<table border=\"1\" class=\"dataframe\">\n",
       "  <thead>\n",
       "    <tr style=\"text-align: right;\">\n",
       "      <th></th>\n",
       "      <th>event</th>\n",
       "      <th>person</th>\n",
       "      <th>time</th>\n",
       "      <th>value</th>\n",
       "    </tr>\n",
       "  </thead>\n",
       "  <tbody>\n",
       "    <tr>\n",
       "      <th>0</th>\n",
       "      <td>offer received</td>\n",
       "      <td>78afa995795e4d85b5d9ceeca43f5fef</td>\n",
       "      <td>0</td>\n",
       "      <td>{'offer id': '9b98b8c7a33c4b65b9aebfe6a799e6d9'}</td>\n",
       "    </tr>\n",
       "    <tr>\n",
       "      <th>1</th>\n",
       "      <td>offer received</td>\n",
       "      <td>a03223e636434f42ac4c3df47e8bac43</td>\n",
       "      <td>0</td>\n",
       "      <td>{'offer id': '0b1e1539f2cc45b7b9fa7c272da2e1d7'}</td>\n",
       "    </tr>\n",
       "    <tr>\n",
       "      <th>2</th>\n",
       "      <td>offer received</td>\n",
       "      <td>e2127556f4f64592b11af22de27a7932</td>\n",
       "      <td>0</td>\n",
       "      <td>{'offer id': '2906b810c7d4411798c6938adc9daaa5'}</td>\n",
       "    </tr>\n",
       "    <tr>\n",
       "      <th>3</th>\n",
       "      <td>offer received</td>\n",
       "      <td>8ec6ce2a7e7949b1bf142def7d0e0586</td>\n",
       "      <td>0</td>\n",
       "      <td>{'offer id': 'fafdcd668e3743c1bb461111dcafc2a4'}</td>\n",
       "    </tr>\n",
       "    <tr>\n",
       "      <th>4</th>\n",
       "      <td>offer received</td>\n",
       "      <td>68617ca6246f4fbc85e91a2a49552598</td>\n",
       "      <td>0</td>\n",
       "      <td>{'offer id': '4d5c57ea9a6940dd891ad53e9dbe8da0'}</td>\n",
       "    </tr>\n",
       "  </tbody>\n",
       "</table>\n",
       "</div>"
      ],
      "text/plain": [
       "            event                            person  time  \\\n",
       "0  offer received  78afa995795e4d85b5d9ceeca43f5fef     0   \n",
       "1  offer received  a03223e636434f42ac4c3df47e8bac43     0   \n",
       "2  offer received  e2127556f4f64592b11af22de27a7932     0   \n",
       "3  offer received  8ec6ce2a7e7949b1bf142def7d0e0586     0   \n",
       "4  offer received  68617ca6246f4fbc85e91a2a49552598     0   \n",
       "\n",
       "                                              value  \n",
       "0  {'offer id': '9b98b8c7a33c4b65b9aebfe6a799e6d9'}  \n",
       "1  {'offer id': '0b1e1539f2cc45b7b9fa7c272da2e1d7'}  \n",
       "2  {'offer id': '2906b810c7d4411798c6938adc9daaa5'}  \n",
       "3  {'offer id': 'fafdcd668e3743c1bb461111dcafc2a4'}  \n",
       "4  {'offer id': '4d5c57ea9a6940dd891ad53e9dbe8da0'}  "
      ]
     },
     "execution_count": 21,
     "metadata": {},
     "output_type": "execute_result"
    }
   ],
   "source": [
    "transcript.head()"
   ]
  },
  {
   "cell_type": "code",
   "execution_count": 22,
   "metadata": {},
   "outputs": [
    {
     "data": {
      "text/html": [
       "<div>\n",
       "<style scoped>\n",
       "    .dataframe tbody tr th:only-of-type {\n",
       "        vertical-align: middle;\n",
       "    }\n",
       "\n",
       "    .dataframe tbody tr th {\n",
       "        vertical-align: top;\n",
       "    }\n",
       "\n",
       "    .dataframe thead th {\n",
       "        text-align: right;\n",
       "    }\n",
       "</style>\n",
       "<table border=\"1\" class=\"dataframe\">\n",
       "  <thead>\n",
       "    <tr style=\"text-align: right;\">\n",
       "      <th></th>\n",
       "      <th>event</th>\n",
       "      <th>person</th>\n",
       "      <th>time</th>\n",
       "      <th>value</th>\n",
       "      <th>offer_id</th>\n",
       "    </tr>\n",
       "  </thead>\n",
       "  <tbody>\n",
       "    <tr>\n",
       "      <th>0</th>\n",
       "      <td>offer received</td>\n",
       "      <td>78afa995795e4d85b5d9ceeca43f5fef</td>\n",
       "      <td>0</td>\n",
       "      <td>{'offer id': '9b98b8c7a33c4b65b9aebfe6a799e6d9'}</td>\n",
       "      <td>9b98b8c7a33c4b65b9aebfe6a799e6d9</td>\n",
       "    </tr>\n",
       "    <tr>\n",
       "      <th>1</th>\n",
       "      <td>offer received</td>\n",
       "      <td>a03223e636434f42ac4c3df47e8bac43</td>\n",
       "      <td>0</td>\n",
       "      <td>{'offer id': '0b1e1539f2cc45b7b9fa7c272da2e1d7'}</td>\n",
       "      <td>0b1e1539f2cc45b7b9fa7c272da2e1d7</td>\n",
       "    </tr>\n",
       "    <tr>\n",
       "      <th>2</th>\n",
       "      <td>offer received</td>\n",
       "      <td>e2127556f4f64592b11af22de27a7932</td>\n",
       "      <td>0</td>\n",
       "      <td>{'offer id': '2906b810c7d4411798c6938adc9daaa5'}</td>\n",
       "      <td>2906b810c7d4411798c6938adc9daaa5</td>\n",
       "    </tr>\n",
       "    <tr>\n",
       "      <th>3</th>\n",
       "      <td>offer received</td>\n",
       "      <td>8ec6ce2a7e7949b1bf142def7d0e0586</td>\n",
       "      <td>0</td>\n",
       "      <td>{'offer id': 'fafdcd668e3743c1bb461111dcafc2a4'}</td>\n",
       "      <td>fafdcd668e3743c1bb461111dcafc2a4</td>\n",
       "    </tr>\n",
       "    <tr>\n",
       "      <th>4</th>\n",
       "      <td>offer received</td>\n",
       "      <td>68617ca6246f4fbc85e91a2a49552598</td>\n",
       "      <td>0</td>\n",
       "      <td>{'offer id': '4d5c57ea9a6940dd891ad53e9dbe8da0'}</td>\n",
       "      <td>4d5c57ea9a6940dd891ad53e9dbe8da0</td>\n",
       "    </tr>\n",
       "  </tbody>\n",
       "</table>\n",
       "</div>"
      ],
      "text/plain": [
       "            event                            person  time  \\\n",
       "0  offer received  78afa995795e4d85b5d9ceeca43f5fef     0   \n",
       "1  offer received  a03223e636434f42ac4c3df47e8bac43     0   \n",
       "2  offer received  e2127556f4f64592b11af22de27a7932     0   \n",
       "3  offer received  8ec6ce2a7e7949b1bf142def7d0e0586     0   \n",
       "4  offer received  68617ca6246f4fbc85e91a2a49552598     0   \n",
       "\n",
       "                                              value  \\\n",
       "0  {'offer id': '9b98b8c7a33c4b65b9aebfe6a799e6d9'}   \n",
       "1  {'offer id': '0b1e1539f2cc45b7b9fa7c272da2e1d7'}   \n",
       "2  {'offer id': '2906b810c7d4411798c6938adc9daaa5'}   \n",
       "3  {'offer id': 'fafdcd668e3743c1bb461111dcafc2a4'}   \n",
       "4  {'offer id': '4d5c57ea9a6940dd891ad53e9dbe8da0'}   \n",
       "\n",
       "                           offer_id  \n",
       "0  9b98b8c7a33c4b65b9aebfe6a799e6d9  \n",
       "1  0b1e1539f2cc45b7b9fa7c272da2e1d7  \n",
       "2  2906b810c7d4411798c6938adc9daaa5  \n",
       "3  fafdcd668e3743c1bb461111dcafc2a4  \n",
       "4  4d5c57ea9a6940dd891ad53e9dbe8da0  "
      ]
     },
     "execution_count": 22,
     "metadata": {},
     "output_type": "execute_result"
    }
   ],
   "source": [
    "def offer_id(dct):\n",
    "    for key, value in dct.items():\n",
    "        if 'offer' in key:\n",
    "            return str(value)\n",
    "    else:\n",
    "        return np.nan\n",
    "transcript['offer_id'] = transcript['value'].apply(lambda x: offer_id(x))\n",
    "transcript.head()"
   ]
  },
  {
   "cell_type": "code",
   "execution_count": 23,
   "metadata": {},
   "outputs": [],
   "source": [
    "transcript = transcript.merge(portfolio[['id','simple_id']], how = 'left', left_on = 'offer_id', right_on = 'id')\n",
    "transcript.drop(['offer_id', 'id'], axis = 1, inplace = True)\n",
    "transcript = transcript.rename(columns = {'simple_id': 'offer_id'})"
   ]
  },
  {
   "cell_type": "code",
   "execution_count": 24,
   "metadata": {},
   "outputs": [
    {
     "data": {
      "text/html": [
       "<div>\n",
       "<style scoped>\n",
       "    .dataframe tbody tr th:only-of-type {\n",
       "        vertical-align: middle;\n",
       "    }\n",
       "\n",
       "    .dataframe tbody tr th {\n",
       "        vertical-align: top;\n",
       "    }\n",
       "\n",
       "    .dataframe thead th {\n",
       "        text-align: right;\n",
       "    }\n",
       "</style>\n",
       "<table border=\"1\" class=\"dataframe\">\n",
       "  <thead>\n",
       "    <tr style=\"text-align: right;\">\n",
       "      <th></th>\n",
       "      <th>event</th>\n",
       "      <th>person</th>\n",
       "      <th>time</th>\n",
       "      <th>value</th>\n",
       "      <th>offer_id</th>\n",
       "      <th>trans_amt</th>\n",
       "    </tr>\n",
       "  </thead>\n",
       "  <tbody>\n",
       "    <tr>\n",
       "      <th>0</th>\n",
       "      <td>offer received</td>\n",
       "      <td>78afa995795e4d85b5d9ceeca43f5fef</td>\n",
       "      <td>0</td>\n",
       "      <td>{'offer id': '9b98b8c7a33c4b65b9aebfe6a799e6d9'}</td>\n",
       "      <td>4.0</td>\n",
       "      <td>NaN</td>\n",
       "    </tr>\n",
       "    <tr>\n",
       "      <th>1</th>\n",
       "      <td>offer received</td>\n",
       "      <td>a03223e636434f42ac4c3df47e8bac43</td>\n",
       "      <td>0</td>\n",
       "      <td>{'offer id': '0b1e1539f2cc45b7b9fa7c272da2e1d7'}</td>\n",
       "      <td>5.0</td>\n",
       "      <td>NaN</td>\n",
       "    </tr>\n",
       "    <tr>\n",
       "      <th>2</th>\n",
       "      <td>offer received</td>\n",
       "      <td>e2127556f4f64592b11af22de27a7932</td>\n",
       "      <td>0</td>\n",
       "      <td>{'offer id': '2906b810c7d4411798c6938adc9daaa5'}</td>\n",
       "      <td>10.0</td>\n",
       "      <td>NaN</td>\n",
       "    </tr>\n",
       "    <tr>\n",
       "      <th>3</th>\n",
       "      <td>offer received</td>\n",
       "      <td>8ec6ce2a7e7949b1bf142def7d0e0586</td>\n",
       "      <td>0</td>\n",
       "      <td>{'offer id': 'fafdcd668e3743c1bb461111dcafc2a4'}</td>\n",
       "      <td>7.0</td>\n",
       "      <td>NaN</td>\n",
       "    </tr>\n",
       "    <tr>\n",
       "      <th>4</th>\n",
       "      <td>offer received</td>\n",
       "      <td>68617ca6246f4fbc85e91a2a49552598</td>\n",
       "      <td>0</td>\n",
       "      <td>{'offer id': '4d5c57ea9a6940dd891ad53e9dbe8da0'}</td>\n",
       "      <td>2.0</td>\n",
       "      <td>NaN</td>\n",
       "    </tr>\n",
       "  </tbody>\n",
       "</table>\n",
       "</div>"
      ],
      "text/plain": [
       "            event                            person  time  \\\n",
       "0  offer received  78afa995795e4d85b5d9ceeca43f5fef     0   \n",
       "1  offer received  a03223e636434f42ac4c3df47e8bac43     0   \n",
       "2  offer received  e2127556f4f64592b11af22de27a7932     0   \n",
       "3  offer received  8ec6ce2a7e7949b1bf142def7d0e0586     0   \n",
       "4  offer received  68617ca6246f4fbc85e91a2a49552598     0   \n",
       "\n",
       "                                              value  offer_id  trans_amt  \n",
       "0  {'offer id': '9b98b8c7a33c4b65b9aebfe6a799e6d9'}       4.0        NaN  \n",
       "1  {'offer id': '0b1e1539f2cc45b7b9fa7c272da2e1d7'}       5.0        NaN  \n",
       "2  {'offer id': '2906b810c7d4411798c6938adc9daaa5'}      10.0        NaN  \n",
       "3  {'offer id': 'fafdcd668e3743c1bb461111dcafc2a4'}       7.0        NaN  \n",
       "4  {'offer id': '4d5c57ea9a6940dd891ad53e9dbe8da0'}       2.0        NaN  "
      ]
     },
     "execution_count": 24,
     "metadata": {},
     "output_type": "execute_result"
    }
   ],
   "source": [
    "def trans_amt(dct):\n",
    "    for key, value in dct.items():\n",
    "        if 'amount' in key:\n",
    "            return float(value)\n",
    "    else:\n",
    "        return np.nan\n",
    "transcript['trans_amt'] = transcript['value'].apply(lambda x: trans_amt(x))\n",
    "transcript.head()"
   ]
  },
  {
   "cell_type": "code",
   "execution_count": 25,
   "metadata": {},
   "outputs": [
    {
     "data": {
      "text/plain": [
       "array(['offer received', 'offer viewed'], dtype=object)"
      ]
     },
     "execution_count": 25,
     "metadata": {},
     "output_type": "execute_result"
    }
   ],
   "source": [
    "transcript.query('offer_id == \"8\"')['event'].unique()"
   ]
  },
  {
   "cell_type": "code",
   "execution_count": 26,
   "metadata": {},
   "outputs": [
    {
     "data": {
      "text/plain": [
       "person                            event          \n",
       "0009655768c64bdeb2e877511632db8f  offer completed     3\n",
       "                                  offer received      5\n",
       "                                  offer viewed        4\n",
       "                                  transaction         8\n",
       "00116118485d4dfda04fdbaba9a87b5c  offer received      2\n",
       "                                  offer viewed        2\n",
       "                                  transaction         3\n",
       "0011e0d4e6b944f998e987f904e8c1e5  offer completed     3\n",
       "                                  offer received      5\n",
       "                                  offer viewed        5\n",
       "                                  transaction         5\n",
       "0020c2b971eb4e9188eac86d93036a77  offer completed     3\n",
       "                                  offer received      5\n",
       "                                  offer viewed        3\n",
       "                                  transaction         8\n",
       "0020ccbbb6d84e358d3414a3ff76cffd  offer completed     3\n",
       "                                  offer received      4\n",
       "                                  offer viewed        4\n",
       "                                  transaction        12\n",
       "003d66b6608740288d6cc97a6903f4f0  offer completed     3\n",
       "                                  offer received      5\n",
       "                                  offer viewed        4\n",
       "                                  transaction        18\n",
       "00426fe3ffde4c6b9cb9ad6d077a13ea  offer completed     1\n",
       "                                  offer received      5\n",
       "                                  offer viewed        2\n",
       "                                  transaction        17\n",
       "004b041fbfe44859945daa2c7f79ee64  offer completed     2\n",
       "                                  offer received      3\n",
       "                                  offer viewed        2\n",
       "                                                     ..\n",
       "ffed75d3abc64b488982f50ed12878b5  offer viewed        2\n",
       "ffede3b700ac41d6a266fa1ba74b4f16  offer received      4\n",
       "                                  offer viewed        3\n",
       "                                  transaction        11\n",
       "fff0f0aac6c547b9b263080f09a5586a  offer received      3\n",
       "                                  offer viewed        3\n",
       "                                  transaction         6\n",
       "fff29fb549084123bd046dbc5ceb4faa  offer completed     6\n",
       "                                  offer received      6\n",
       "                                  offer viewed        5\n",
       "                                  transaction        11\n",
       "fff3ba4757bd42088c044ca26d73817a  offer completed     3\n",
       "                                  offer received      6\n",
       "                                  offer viewed        3\n",
       "                                  transaction        11\n",
       "fff7576017104bcc8677a8d63322b5e1  offer completed     3\n",
       "                                  offer received      5\n",
       "                                  offer viewed        4\n",
       "                                  transaction         6\n",
       "fff8957ea8b240a6b5e634b6ee8eafcf  offer received      3\n",
       "                                  offer viewed        2\n",
       "                                  transaction         5\n",
       "fffad4f4828548d1b5583907f2e9906b  offer completed     3\n",
       "                                  offer received      4\n",
       "                                  offer viewed        4\n",
       "                                  transaction        12\n",
       "ffff82501cea40309d5fdd7edcca4a07  offer completed     6\n",
       "                                  offer received      6\n",
       "                                  offer viewed        6\n",
       "                                  transaction        15\n",
       "Length: 63180, dtype: int64"
      ]
     },
     "execution_count": 26,
     "metadata": {},
     "output_type": "execute_result"
    }
   ],
   "source": [
    "transcript.groupby(['person','event']).size()"
   ]
  },
  {
   "cell_type": "code",
   "execution_count": 27,
   "metadata": {},
   "outputs": [
    {
     "data": {
      "text/plain": [
       "offer_id\n",
       "7.0     5317\n",
       "6.0     5156\n",
       "4.0     4354\n",
       "9.0     4296\n",
       "10.0    4017\n",
       "1.0     3688\n",
       "5.0     3420\n",
       "2.0     3331\n",
       "dtype: int64"
      ]
     },
     "execution_count": 27,
     "metadata": {},
     "output_type": "execute_result"
    }
   ],
   "source": [
    "transcript.query('event == \"offer completed\"').groupby('offer_id').size().sort_values(ascending = False)"
   ]
  },
  {
   "cell_type": "code",
   "execution_count": 28,
   "metadata": {},
   "outputs": [
    {
     "name": "stdout",
     "output_type": "stream",
     "text": [
      "['offer received' 'offer viewed']\n",
      "['offer received' 'offer viewed']\n"
     ]
    }
   ],
   "source": [
    "print(transcript.query('offer_id == 8')['event'].unique())\n",
    "print(transcript.query('offer_id == 3')['event'].unique())"
   ]
  },
  {
   "cell_type": "markdown",
   "metadata": {},
   "source": [
    "> Informational offer only have offer received and offer viewed events. Therefor, if we want to analyze transaction and offer completed we should exclude these two offers."
   ]
  },
  {
   "cell_type": "code",
   "execution_count": 29,
   "metadata": {},
   "outputs": [],
   "source": [
    "trans_ppl = transcript.merge(profile, how = 'left', left_on = 'person', right_on = 'id')\n",
    "trans_ppl.drop('id', axis = 1, inplace = True)"
   ]
  },
  {
   "cell_type": "code",
   "execution_count": 30,
   "metadata": {},
   "outputs": [],
   "source": [
    "# Exclude informational offer\n",
    "not_inf = trans_ppl.query('offer_id !=  8 and offer_id !=  3')"
   ]
  },
  {
   "cell_type": "code",
   "execution_count": 31,
   "metadata": {},
   "outputs": [
    {
     "data": {
      "text/plain": [
       "<matplotlib.axes._subplots.AxesSubplot at 0x7f447eb89a20>"
      ]
     },
     "execution_count": 31,
     "metadata": {},
     "output_type": "execute_result"
    },
    {
     "data": {
      "image/png": "[encoded data removed]",
      "text/plain": [
       "<matplotlib.figure.Figure at 0x7f447eceed30>"
      ]
     },
     "metadata": {
      "needs_background": "light"
     },
     "output_type": "display_data"
    }
   ],
   "source": [
    "sb.countplot(data = not_inf, x = 'event', hue = 'gender')"
   ]
  },
  {
   "cell_type": "markdown",
   "metadata": {},
   "source": [
    "> We have more male so I will use the percentage to see the distribution"
   ]
  },
  {
   "cell_type": "code",
   "execution_count": 32,
   "metadata": {},
   "outputs": [
    {
     "data": {
      "text/plain": [
       "M    160322\n",
       "F    116148\n",
       "O      3998\n",
       "Name: gender, dtype: int64"
      ]
     },
     "execution_count": 32,
     "metadata": {},
     "output_type": "execute_result"
    }
   ],
   "source": [
    "not_inf.gender.value_counts()"
   ]
  },
  {
   "cell_type": "code",
   "execution_count": 33,
   "metadata": {},
   "outputs": [
    {
     "data": {
      "text/html": [
       "<div>\n",
       "<style scoped>\n",
       "    .dataframe tbody tr th:only-of-type {\n",
       "        vertical-align: middle;\n",
       "    }\n",
       "\n",
       "    .dataframe tbody tr th {\n",
       "        vertical-align: top;\n",
       "    }\n",
       "\n",
       "    .dataframe thead th {\n",
       "        text-align: right;\n",
       "    }\n",
       "</style>\n",
       "<table border=\"1\" class=\"dataframe\">\n",
       "  <thead>\n",
       "    <tr style=\"text-align: right;\">\n",
       "      <th></th>\n",
       "      <th>event</th>\n",
       "      <th>gender</th>\n",
       "      <th>counts</th>\n",
       "      <th>total</th>\n",
       "      <th>percentage</th>\n",
       "    </tr>\n",
       "  </thead>\n",
       "  <tbody>\n",
       "    <tr>\n",
       "      <th>0</th>\n",
       "      <td>offer completed</td>\n",
       "      <td>F</td>\n",
       "      <td>15972</td>\n",
       "      <td>116148</td>\n",
       "      <td>0.137514</td>\n",
       "    </tr>\n",
       "    <tr>\n",
       "      <th>1</th>\n",
       "      <td>offer completed</td>\n",
       "      <td>M</td>\n",
       "      <td>17088</td>\n",
       "      <td>160322</td>\n",
       "      <td>0.106585</td>\n",
       "    </tr>\n",
       "    <tr>\n",
       "      <th>2</th>\n",
       "      <td>offer completed</td>\n",
       "      <td>O</td>\n",
       "      <td>519</td>\n",
       "      <td>3998</td>\n",
       "      <td>0.129815</td>\n",
       "    </tr>\n",
       "    <tr>\n",
       "      <th>3</th>\n",
       "      <td>offer received</td>\n",
       "      <td>F</td>\n",
       "      <td>25106</td>\n",
       "      <td>116148</td>\n",
       "      <td>0.216155</td>\n",
       "    </tr>\n",
       "    <tr>\n",
       "      <th>4</th>\n",
       "      <td>offer received</td>\n",
       "      <td>M</td>\n",
       "      <td>35117</td>\n",
       "      <td>160322</td>\n",
       "      <td>0.219040</td>\n",
       "    </tr>\n",
       "    <tr>\n",
       "      <th>5</th>\n",
       "      <td>offer received</td>\n",
       "      <td>O</td>\n",
       "      <td>819</td>\n",
       "      <td>3998</td>\n",
       "      <td>0.204852</td>\n",
       "    </tr>\n",
       "    <tr>\n",
       "      <th>6</th>\n",
       "      <td>offer viewed</td>\n",
       "      <td>F</td>\n",
       "      <td>19503</td>\n",
       "      <td>116148</td>\n",
       "      <td>0.167915</td>\n",
       "    </tr>\n",
       "    <tr>\n",
       "      <th>7</th>\n",
       "      <td>offer viewed</td>\n",
       "      <td>M</td>\n",
       "      <td>26705</td>\n",
       "      <td>160322</td>\n",
       "      <td>0.166571</td>\n",
       "    </tr>\n",
       "    <tr>\n",
       "      <th>8</th>\n",
       "      <td>offer viewed</td>\n",
       "      <td>O</td>\n",
       "      <td>686</td>\n",
       "      <td>3998</td>\n",
       "      <td>0.171586</td>\n",
       "    </tr>\n",
       "    <tr>\n",
       "      <th>9</th>\n",
       "      <td>transaction</td>\n",
       "      <td>F</td>\n",
       "      <td>55567</td>\n",
       "      <td>116148</td>\n",
       "      <td>0.478415</td>\n",
       "    </tr>\n",
       "    <tr>\n",
       "      <th>10</th>\n",
       "      <td>transaction</td>\n",
       "      <td>M</td>\n",
       "      <td>81412</td>\n",
       "      <td>160322</td>\n",
       "      <td>0.507803</td>\n",
       "    </tr>\n",
       "    <tr>\n",
       "      <th>11</th>\n",
       "      <td>transaction</td>\n",
       "      <td>O</td>\n",
       "      <td>1974</td>\n",
       "      <td>3998</td>\n",
       "      <td>0.493747</td>\n",
       "    </tr>\n",
       "  </tbody>\n",
       "</table>\n",
       "</div>"
      ],
      "text/plain": [
       "              event gender  counts   total  percentage\n",
       "0   offer completed      F   15972  116148    0.137514\n",
       "1   offer completed      M   17088  160322    0.106585\n",
       "2   offer completed      O     519    3998    0.129815\n",
       "3    offer received      F   25106  116148    0.216155\n",
       "4    offer received      M   35117  160322    0.219040\n",
       "5    offer received      O     819    3998    0.204852\n",
       "6      offer viewed      F   19503  116148    0.167915\n",
       "7      offer viewed      M   26705  160322    0.166571\n",
       "8      offer viewed      O     686    3998    0.171586\n",
       "9       transaction      F   55567  116148    0.478415\n",
       "10      transaction      M   81412  160322    0.507803\n",
       "11      transaction      O    1974    3998    0.493747"
      ]
     },
     "execution_count": 33,
     "metadata": {},
     "output_type": "execute_result"
    }
   ],
   "source": [
    "def genderpct(x):\n",
    "    return gender_pct.query('gender == @x')['counts'].sum()\n",
    "gender_pct = not_inf.groupby(['event', 'gender']).size().reset_index(name = 'counts')\n",
    "gender_pct['total'] = gender_pct['gender'].apply(lambda x :genderpct(x))\n",
    "gender_pct['percentage'] = gender_pct['counts']/gender_pct['total']\n",
    "gender_pct"
   ]
  },
  {
   "cell_type": "code",
   "execution_count": 34,
   "metadata": {},
   "outputs": [
    {
     "data": {
      "image/png": "[encoded data removed]",
      "text/plain": [
       "<matplotlib.figure.Figure at 0x7f447ec05e48>"
      ]
     },
     "metadata": {
      "needs_background": "light"
     },
     "output_type": "display_data"
    }
   ],
   "source": [
    "sb.barplot( x= \"event\", y=\"percentage\", hue=\"gender\", data=gender_pct, order = ['offer received', 'offer viewed', 'transaction', 'offer completed']);"
   ]
  },
  {
   "cell_type": "code",
   "execution_count": 35,
   "metadata": {},
   "outputs": [],
   "source": [
    "offer_num = transcript.groupby('person').size().reset_index(name = 'offer_num')\n",
    "profile = profile.merge(offer_num, how = 'left', left_on = 'id', right_on = 'person')\n",
    "\n",
    "profile.drop('person', axis = 1, inplace = True)"
   ]
  },
  {
   "cell_type": "code",
   "execution_count": 36,
   "metadata": {},
   "outputs": [
    {
     "data": {
      "text/html": [
       "<div>\n",
       "<style scoped>\n",
       "    .dataframe tbody tr th:only-of-type {\n",
       "        vertical-align: middle;\n",
       "    }\n",
       "\n",
       "    .dataframe tbody tr th {\n",
       "        vertical-align: top;\n",
       "    }\n",
       "\n",
       "    .dataframe thead th {\n",
       "        text-align: right;\n",
       "    }\n",
       "</style>\n",
       "<table border=\"1\" class=\"dataframe\">\n",
       "  <thead>\n",
       "    <tr style=\"text-align: right;\">\n",
       "      <th></th>\n",
       "      <th>age</th>\n",
       "      <th>became_member_on</th>\n",
       "      <th>gender</th>\n",
       "      <th>id</th>\n",
       "      <th>income</th>\n",
       "      <th>offer_num</th>\n",
       "    </tr>\n",
       "  </thead>\n",
       "  <tbody>\n",
       "    <tr>\n",
       "      <th>0</th>\n",
       "      <td>54.0</td>\n",
       "      <td>2017-02-12</td>\n",
       "      <td>M</td>\n",
       "      <td>68be06ca386d4c31939f3a4f0e3dd783</td>\n",
       "      <td>65405.0</td>\n",
       "      <td>21</td>\n",
       "    </tr>\n",
       "    <tr>\n",
       "      <th>1</th>\n",
       "      <td>55.0</td>\n",
       "      <td>2017-07-15</td>\n",
       "      <td>F</td>\n",
       "      <td>0610b486422d4921ae7d2bf64640c50b</td>\n",
       "      <td>112000.0</td>\n",
       "      <td>6</td>\n",
       "    </tr>\n",
       "    <tr>\n",
       "      <th>2</th>\n",
       "      <td>54.0</td>\n",
       "      <td>2018-07-12</td>\n",
       "      <td>M</td>\n",
       "      <td>38fe809add3b4fcf9315a9694bb96ff5</td>\n",
       "      <td>65405.0</td>\n",
       "      <td>10</td>\n",
       "    </tr>\n",
       "    <tr>\n",
       "      <th>3</th>\n",
       "      <td>75.0</td>\n",
       "      <td>2017-05-09</td>\n",
       "      <td>F</td>\n",
       "      <td>78afa995795e4d85b5d9ceeca43f5fef</td>\n",
       "      <td>100000.0</td>\n",
       "      <td>18</td>\n",
       "    </tr>\n",
       "    <tr>\n",
       "      <th>4</th>\n",
       "      <td>54.0</td>\n",
       "      <td>2017-08-04</td>\n",
       "      <td>F</td>\n",
       "      <td>a03223e636434f42ac4c3df47e8bac43</td>\n",
       "      <td>65405.0</td>\n",
       "      <td>11</td>\n",
       "    </tr>\n",
       "  </tbody>\n",
       "</table>\n",
       "</div>"
      ],
      "text/plain": [
       "    age became_member_on gender                                id    income  \\\n",
       "0  54.0       2017-02-12      M  68be06ca386d4c31939f3a4f0e3dd783   65405.0   \n",
       "1  55.0       2017-07-15      F  0610b486422d4921ae7d2bf64640c50b  112000.0   \n",
       "2  54.0       2018-07-12      M  38fe809add3b4fcf9315a9694bb96ff5   65405.0   \n",
       "3  75.0       2017-05-09      F  78afa995795e4d85b5d9ceeca43f5fef  100000.0   \n",
       "4  54.0       2017-08-04      F  a03223e636434f42ac4c3df47e8bac43   65405.0   \n",
       "\n",
       "   offer_num  \n",
       "0         21  \n",
       "1          6  \n",
       "2         10  \n",
       "3         18  \n",
       "4         11  "
      ]
     },
     "execution_count": 36,
     "metadata": {},
     "output_type": "execute_result"
    }
   ],
   "source": [
    "profile.head()"
   ]
  },
  {
   "cell_type": "code",
   "execution_count": 37,
   "metadata": {},
   "outputs": [
    {
     "data": {
      "text/html": [
       "<div>\n",
       "<style scoped>\n",
       "    .dataframe tbody tr th:only-of-type {\n",
       "        vertical-align: middle;\n",
       "    }\n",
       "\n",
       "    .dataframe tbody tr th {\n",
       "        vertical-align: top;\n",
       "    }\n",
       "\n",
       "    .dataframe thead th {\n",
       "        text-align: right;\n",
       "    }\n",
       "</style>\n",
       "<table border=\"1\" class=\"dataframe\">\n",
       "  <thead>\n",
       "    <tr style=\"text-align: right;\">\n",
       "      <th></th>\n",
       "      <th>age</th>\n",
       "      <th>income</th>\n",
       "      <th>offer_num</th>\n",
       "    </tr>\n",
       "  </thead>\n",
       "  <tbody>\n",
       "    <tr>\n",
       "      <th>age</th>\n",
       "      <td>1.000000</td>\n",
       "      <td>0.306693</td>\n",
       "      <td>-0.078640</td>\n",
       "    </tr>\n",
       "    <tr>\n",
       "      <th>income</th>\n",
       "      <td>0.306693</td>\n",
       "      <td>1.000000</td>\n",
       "      <td>-0.124043</td>\n",
       "    </tr>\n",
       "    <tr>\n",
       "      <th>offer_num</th>\n",
       "      <td>-0.078640</td>\n",
       "      <td>-0.124043</td>\n",
       "      <td>1.000000</td>\n",
       "    </tr>\n",
       "  </tbody>\n",
       "</table>\n",
       "</div>"
      ],
      "text/plain": [
       "                age    income  offer_num\n",
       "age        1.000000  0.306693  -0.078640\n",
       "income     0.306693  1.000000  -0.124043\n",
       "offer_num -0.078640 -0.124043   1.000000"
      ]
     },
     "execution_count": 37,
     "metadata": {},
     "output_type": "execute_result"
    }
   ],
   "source": [
    "profile[['age', 'income', 'offer_num']].corr()"
   ]
  },
  {
   "cell_type": "markdown",
   "metadata": {},
   "source": [
    "> offer_num has slightly negative correlation with income. The lower income, the more offers."
   ]
  },
  {
   "cell_type": "code",
   "execution_count": 38,
   "metadata": {},
   "outputs": [
    {
     "data": {
      "text/plain": [
       "[<matplotlib.lines.Line2D at 0x7f447eb27cc0>]"
      ]
     },
     "execution_count": 38,
     "metadata": {},
     "output_type": "execute_result"
    },
    {
     "data": {
      "image/png": "[encoded data removed]",
      "text/plain": [
       "<matplotlib.figure.Figure at 0x7f447eb50860>"
      ]
     },
     "metadata": {
      "needs_background": "light"
     },
     "output_type": "display_data"
    }
   ],
   "source": [
    "time_df = transcript.groupby('time').size().reset_index(name = 'offer_num')\n",
    "plt.plot(time_df['time'], time_df['offer_num'])"
   ]
  },
  {
   "cell_type": "markdown",
   "metadata": {},
   "source": [
    "> Offers are released periodically."
   ]
  },
  {
   "cell_type": "code",
   "execution_count": 39,
   "metadata": {},
   "outputs": [
    {
     "data": {
      "image/png": "[encoded data removed]",
      "text/plain": [
       "<matplotlib.figure.Figure at 0x7f447eb557b8>"
      ]
     },
     "metadata": {
      "needs_background": "light"
     },
     "output_type": "display_data"
    }
   ],
   "source": [
    "plt.figure(figsize = (20,10))\n",
    "type_time_df = transcript.groupby(['event','time']).size().reset_index(name = 'offer_num')\n",
    "plt.plot(type_time_df.query('event == \"offer received\"')['time'], type_time_df.query('event == \"offer received\"')['offer_num'], 'ro', label = 'offer received')\n",
    "plt.plot(type_time_df.query('event == \"offer viewed\"')['time'], type_time_df.query('event == \"offer viewed\"')['offer_num'], 'bo', label = 'offer viewed')\n",
    "plt.plot(type_time_df.query('event == \"transaction\"')['time'], type_time_df.query('event == \"transaction\"')['offer_num'], 'go', label = 'transaction')\n",
    "plt.plot(type_time_df.query('event == \"offer completed\"')['time'], type_time_df.query('event == \"offer completed\"')['offer_num'], 'yo', label = 'offer completed')\n",
    "plt.legend();\n"
   ]
  },
  {
   "cell_type": "code",
   "execution_count": 40,
   "metadata": {},
   "outputs": [],
   "source": [
    "def offer_type_pct(x):\n",
    "    return offer_pct.query('offer_id == @x')['counts'].sum()\n",
    "offer_pct = not_inf.groupby(['event', 'offer_id']).size().reset_index(name = 'counts')\n",
    "offer_pct['total'] = offer_pct['offer_id'].apply(lambda x : offer_type_pct(x))\n",
    "offer_pct['percentage'] = offer_pct['counts']/offer_pct['total']"
   ]
  },
  {
   "cell_type": "code",
   "execution_count": 41,
   "metadata": {},
   "outputs": [
    {
     "data": {
      "image/png": "[encoded data removed]",
      "text/plain": [
       "<matplotlib.figure.Figure at 0x7f447eb761d0>"
      ]
     },
     "metadata": {
      "needs_background": "light"
     },
     "output_type": "display_data"
    }
   ],
   "source": [
    "sb.barplot( x= \"event\", y=\"percentage\", hue=\"offer_id\", data=offer_pct, order = ['offer received', 'offer viewed', 'transaction', 'offer completed'])\n",
    "plt.legend(loc='best',bbox_to_anchor=(1, 1));"
   ]
  },
  {
   "cell_type": "code",
   "execution_count": 42,
   "metadata": {},
   "outputs": [],
   "source": [
    "portfolio = portfolio.merge(offer_pct.query('event == \"offer completed\"')[['offer_id', 'percentage']], how = 'left', left_on = 'simple_id', right_on = 'offer_id')\n",
    "portfolio.drop('offer_id', axis = 1, inplace = True)\n",
    "portfolio = portfolio.rename(columns = {'percentage':'completed rate'})"
   ]
  },
  {
   "cell_type": "code",
   "execution_count": 43,
   "metadata": {},
   "outputs": [
    {
     "data": {
      "text/plain": [
       "reward           -0.877836\n",
       "bogo             -0.615480\n",
       "social           -0.526682\n",
       "mobile           -0.142961\n",
       "difficulty       -0.033187\n",
       "web               0.440926\n",
       "simple_id         0.540107\n",
       "duration          0.592372\n",
       "discount          0.615480\n",
       "completed rate    1.000000\n",
       "email                  NaN\n",
       "informational          NaN\n",
       "Name: completed rate, dtype: float64"
      ]
     },
     "execution_count": 43,
     "metadata": {},
     "output_type": "execute_result"
    }
   ],
   "source": [
    "portfolio.iloc[[0,1,3,4,5,6,8,9],:].corr().loc['completed rate'].sort_values()"
   ]
  },
  {
   "cell_type": "markdown",
   "metadata": {},
   "source": [
    "> - email/ informational is Nan is because all offer_id have same values for these two variables.\n",
    "> - Discount is positively correlated to completed rate, but bogo is negatively correlated to completed rate. Therefore, Starbucks should use discount as promotion more than bogo."
   ]
  },
  {
   "cell_type": "code",
   "execution_count": 44,
   "metadata": {},
   "outputs": [],
   "source": [
    "def respond(x):\n",
    "    if x == 'transaction' or x == 'offer completed':\n",
    "        return 1\n",
    "    else:\n",
    "        return 0\n",
    "transcript['responded'] = transcript['event'].apply(lambda x: respond(x)) "
   ]
  },
  {
   "cell_type": "code",
   "execution_count": 45,
   "metadata": {},
   "outputs": [],
   "source": [
    "trans_ppl['responded'] = trans_ppl['event'].apply(lambda x: respond(x)) "
   ]
  },
  {
   "cell_type": "code",
   "execution_count": 46,
   "metadata": {},
   "outputs": [
    {
     "data": {
      "text/html": [
       "<div>\n",
       "<style scoped>\n",
       "    .dataframe tbody tr th:only-of-type {\n",
       "        vertical-align: middle;\n",
       "    }\n",
       "\n",
       "    .dataframe tbody tr th {\n",
       "        vertical-align: top;\n",
       "    }\n",
       "\n",
       "    .dataframe thead th {\n",
       "        text-align: right;\n",
       "    }\n",
       "</style>\n",
       "<table border=\"1\" class=\"dataframe\">\n",
       "  <thead>\n",
       "    <tr style=\"text-align: right;\">\n",
       "      <th></th>\n",
       "      <th>event</th>\n",
       "      <th>person</th>\n",
       "      <th>time</th>\n",
       "      <th>value</th>\n",
       "      <th>offer_id</th>\n",
       "      <th>trans_amt</th>\n",
       "      <th>age</th>\n",
       "      <th>became_member_on</th>\n",
       "      <th>gender</th>\n",
       "      <th>income</th>\n",
       "      <th>responded</th>\n",
       "      <th>age_group</th>\n",
       "    </tr>\n",
       "  </thead>\n",
       "  <tbody>\n",
       "    <tr>\n",
       "      <th>0</th>\n",
       "      <td>offer received</td>\n",
       "      <td>78afa995795e4d85b5d9ceeca43f5fef</td>\n",
       "      <td>0</td>\n",
       "      <td>{'offer id': '9b98b8c7a33c4b65b9aebfe6a799e6d9'}</td>\n",
       "      <td>4.0</td>\n",
       "      <td>NaN</td>\n",
       "      <td>75.0</td>\n",
       "      <td>2017-05-09</td>\n",
       "      <td>F</td>\n",
       "      <td>100000.0</td>\n",
       "      <td>0</td>\n",
       "      <td>(70, 75]</td>\n",
       "    </tr>\n",
       "    <tr>\n",
       "      <th>1</th>\n",
       "      <td>offer received</td>\n",
       "      <td>a03223e636434f42ac4c3df47e8bac43</td>\n",
       "      <td>0</td>\n",
       "      <td>{'offer id': '0b1e1539f2cc45b7b9fa7c272da2e1d7'}</td>\n",
       "      <td>5.0</td>\n",
       "      <td>NaN</td>\n",
       "      <td>54.0</td>\n",
       "      <td>2017-08-04</td>\n",
       "      <td>F</td>\n",
       "      <td>65405.0</td>\n",
       "      <td>0</td>\n",
       "      <td>(50, 55]</td>\n",
       "    </tr>\n",
       "    <tr>\n",
       "      <th>2</th>\n",
       "      <td>offer received</td>\n",
       "      <td>e2127556f4f64592b11af22de27a7932</td>\n",
       "      <td>0</td>\n",
       "      <td>{'offer id': '2906b810c7d4411798c6938adc9daaa5'}</td>\n",
       "      <td>10.0</td>\n",
       "      <td>NaN</td>\n",
       "      <td>68.0</td>\n",
       "      <td>2018-04-26</td>\n",
       "      <td>M</td>\n",
       "      <td>70000.0</td>\n",
       "      <td>0</td>\n",
       "      <td>(65, 70]</td>\n",
       "    </tr>\n",
       "    <tr>\n",
       "      <th>3</th>\n",
       "      <td>offer received</td>\n",
       "      <td>8ec6ce2a7e7949b1bf142def7d0e0586</td>\n",
       "      <td>0</td>\n",
       "      <td>{'offer id': 'fafdcd668e3743c1bb461111dcafc2a4'}</td>\n",
       "      <td>7.0</td>\n",
       "      <td>NaN</td>\n",
       "      <td>54.0</td>\n",
       "      <td>2017-09-25</td>\n",
       "      <td>M</td>\n",
       "      <td>65405.0</td>\n",
       "      <td>0</td>\n",
       "      <td>(50, 55]</td>\n",
       "    </tr>\n",
       "    <tr>\n",
       "      <th>4</th>\n",
       "      <td>offer received</td>\n",
       "      <td>68617ca6246f4fbc85e91a2a49552598</td>\n",
       "      <td>0</td>\n",
       "      <td>{'offer id': '4d5c57ea9a6940dd891ad53e9dbe8da0'}</td>\n",
       "      <td>2.0</td>\n",
       "      <td>NaN</td>\n",
       "      <td>54.0</td>\n",
       "      <td>2017-10-02</td>\n",
       "      <td>M</td>\n",
       "      <td>65405.0</td>\n",
       "      <td>0</td>\n",
       "      <td>(50, 55]</td>\n",
       "    </tr>\n",
       "  </tbody>\n",
       "</table>\n",
       "</div>"
      ],
      "text/plain": [
       "            event                            person  time  \\\n",
       "0  offer received  78afa995795e4d85b5d9ceeca43f5fef     0   \n",
       "1  offer received  a03223e636434f42ac4c3df47e8bac43     0   \n",
       "2  offer received  e2127556f4f64592b11af22de27a7932     0   \n",
       "3  offer received  8ec6ce2a7e7949b1bf142def7d0e0586     0   \n",
       "4  offer received  68617ca6246f4fbc85e91a2a49552598     0   \n",
       "\n",
       "                                              value  offer_id  trans_amt  \\\n",
       "0  {'offer id': '9b98b8c7a33c4b65b9aebfe6a799e6d9'}       4.0        NaN   \n",
       "1  {'offer id': '0b1e1539f2cc45b7b9fa7c272da2e1d7'}       5.0        NaN   \n",
       "2  {'offer id': '2906b810c7d4411798c6938adc9daaa5'}      10.0        NaN   \n",
       "3  {'offer id': 'fafdcd668e3743c1bb461111dcafc2a4'}       7.0        NaN   \n",
       "4  {'offer id': '4d5c57ea9a6940dd891ad53e9dbe8da0'}       2.0        NaN   \n",
       "\n",
       "    age became_member_on gender    income  responded age_group  \n",
       "0  75.0       2017-05-09      F  100000.0          0  (70, 75]  \n",
       "1  54.0       2017-08-04      F   65405.0          0  (50, 55]  \n",
       "2  68.0       2018-04-26      M   70000.0          0  (65, 70]  \n",
       "3  54.0       2017-09-25      M   65405.0          0  (50, 55]  \n",
       "4  54.0       2017-10-02      M   65405.0          0  (50, 55]  "
      ]
     },
     "execution_count": 46,
     "metadata": {},
     "output_type": "execute_result"
    }
   ],
   "source": [
    "xbin_edges = np.arange(15,110,5)\n",
    "trans_ppl['age_group'] = pd.cut(trans_ppl['age'], bins = xbin_edges, include_lowest = False, right = True)\n",
    "trans_ppl.head()"
   ]
  },
  {
   "cell_type": "code",
   "execution_count": 47,
   "metadata": {},
   "outputs": [],
   "source": [
    "age_pct = trans_ppl.groupby(['age_group', 'responded']).size().reset_index(name = 'counts')"
   ]
  },
  {
   "cell_type": "code",
   "execution_count": 48,
   "metadata": {
    "scrolled": true
   },
   "outputs": [
    {
     "data": {
      "text/html": [
       "<div>\n",
       "<style scoped>\n",
       "    .dataframe tbody tr th:only-of-type {\n",
       "        vertical-align: middle;\n",
       "    }\n",
       "\n",
       "    .dataframe tbody tr th {\n",
       "        vertical-align: top;\n",
       "    }\n",
       "\n",
       "    .dataframe thead th {\n",
       "        text-align: right;\n",
       "    }\n",
       "</style>\n",
       "<table border=\"1\" class=\"dataframe\">\n",
       "  <thead>\n",
       "    <tr style=\"text-align: right;\">\n",
       "      <th></th>\n",
       "      <th>age_group</th>\n",
       "      <th>responded</th>\n",
       "      <th>counts</th>\n",
       "      <th>total</th>\n",
       "      <th>percentage</th>\n",
       "    </tr>\n",
       "  </thead>\n",
       "  <tbody>\n",
       "    <tr>\n",
       "      <th>0</th>\n",
       "      <td>(15, 20]</td>\n",
       "      <td>0</td>\n",
       "      <td>2570</td>\n",
       "      <td>6544</td>\n",
       "      <td>0.392726</td>\n",
       "    </tr>\n",
       "    <tr>\n",
       "      <th>1</th>\n",
       "      <td>(15, 20]</td>\n",
       "      <td>1</td>\n",
       "      <td>3974</td>\n",
       "      <td>6544</td>\n",
       "      <td>0.607274</td>\n",
       "    </tr>\n",
       "    <tr>\n",
       "      <th>2</th>\n",
       "      <td>(20, 25]</td>\n",
       "      <td>0</td>\n",
       "      <td>5113</td>\n",
       "      <td>13278</td>\n",
       "      <td>0.385073</td>\n",
       "    </tr>\n",
       "    <tr>\n",
       "      <th>3</th>\n",
       "      <td>(20, 25]</td>\n",
       "      <td>1</td>\n",
       "      <td>8165</td>\n",
       "      <td>13278</td>\n",
       "      <td>0.614927</td>\n",
       "    </tr>\n",
       "    <tr>\n",
       "      <th>4</th>\n",
       "      <td>(25, 30]</td>\n",
       "      <td>0</td>\n",
       "      <td>5330</td>\n",
       "      <td>13759</td>\n",
       "      <td>0.387383</td>\n",
       "    </tr>\n",
       "  </tbody>\n",
       "</table>\n",
       "</div>"
      ],
      "text/plain": [
       "  age_group  responded  counts  total  percentage\n",
       "0  (15, 20]          0    2570   6544    0.392726\n",
       "1  (15, 20]          1    3974   6544    0.607274\n",
       "2  (20, 25]          0    5113  13278    0.385073\n",
       "3  (20, 25]          1    8165  13278    0.614927\n",
       "4  (25, 30]          0    5330  13759    0.387383"
      ]
     },
     "execution_count": 48,
     "metadata": {},
     "output_type": "execute_result"
    }
   ],
   "source": [
    "total_age_group = trans_ppl.groupby('age_group').size().reset_index(name = 'total')\n",
    "age_pct = age_pct.merge(total_age_group, how = 'left', on = 'age_group')\n",
    "age_pct['percentage'] = age_pct['counts']/age_pct['total']\n",
    "age_pct.head()"
   ]
  },
  {
   "cell_type": "code",
   "execution_count": 49,
   "metadata": {},
   "outputs": [
    {
     "data": {
      "image/png": "[encoded data removed]",
      "text/plain": [
       "<matplotlib.figure.Figure at 0x7f447ea7de80>"
      ]
     },
     "metadata": {
      "needs_background": "light"
     },
     "output_type": "display_data"
    }
   ],
   "source": [
    "plt.figure(figsize = (8,5))\n",
    "sb.barplot( x= \"age_group\", y=\"percentage\", hue=\"responded\", data=age_pct)\n",
    "plt.legend(loc='best',bbox_to_anchor=(1, 1))\n",
    "plt.xticks(rotation = 45)\n",
    "plt.title('Response rate for people in different age group');"
   ]
  },
  {
   "cell_type": "markdown",
   "metadata": {},
   "source": [
    "> Responded rate decline from 35 to 55. However, it increases and stays stable after 55. One possible reason might be that people within age 35-55 are too busy to respond to the offers. For younger and older people, they might have time to respond to the offers. The other possible reason is that people in middle age are not sensitive to discount/promotion. People under 35 have more than 60% to the offers. People over 55 have second response rate and the people aged between 35-55 have the lowest response rate."
   ]
  },
  {
   "cell_type": "code",
   "execution_count": 50,
   "metadata": {},
   "outputs": [],
   "source": [
    "trans_ppl = trans_ppl.merge(portfolio, how = 'left', left_on = 'offer_id', right_on = 'simple_id')\n",
    "trans_ppl.drop(['id','completed rate'], axis = 1, inplace = True)"
   ]
  },
  {
   "cell_type": "code",
   "execution_count": 51,
   "metadata": {},
   "outputs": [
    {
     "data": {
      "text/html": [
       "<div>\n",
       "<style scoped>\n",
       "    .dataframe tbody tr th:only-of-type {\n",
       "        vertical-align: middle;\n",
       "    }\n",
       "\n",
       "    .dataframe tbody tr th {\n",
       "        vertical-align: top;\n",
       "    }\n",
       "\n",
       "    .dataframe thead th {\n",
       "        text-align: right;\n",
       "    }\n",
       "</style>\n",
       "<table border=\"1\" class=\"dataframe\">\n",
       "  <thead>\n",
       "    <tr style=\"text-align: right;\">\n",
       "      <th></th>\n",
       "      <th>age_group</th>\n",
       "      <th>offer_id</th>\n",
       "      <th>event</th>\n",
       "      <th>counts</th>\n",
       "      <th>total</th>\n",
       "      <th>percentage</th>\n",
       "    </tr>\n",
       "  </thead>\n",
       "  <tbody>\n",
       "    <tr>\n",
       "      <th>0</th>\n",
       "      <td>(15, 20]</td>\n",
       "      <td>1.0</td>\n",
       "      <td>offer completed</td>\n",
       "      <td>54</td>\n",
       "      <td>358</td>\n",
       "      <td>0.150838</td>\n",
       "    </tr>\n",
       "    <tr>\n",
       "      <th>1</th>\n",
       "      <td>(15, 20]</td>\n",
       "      <td>1.0</td>\n",
       "      <td>offer received</td>\n",
       "      <td>156</td>\n",
       "      <td>358</td>\n",
       "      <td>0.435754</td>\n",
       "    </tr>\n",
       "    <tr>\n",
       "      <th>2</th>\n",
       "      <td>(15, 20]</td>\n",
       "      <td>1.0</td>\n",
       "      <td>offer viewed</td>\n",
       "      <td>148</td>\n",
       "      <td>358</td>\n",
       "      <td>0.413408</td>\n",
       "    </tr>\n",
       "    <tr>\n",
       "      <th>3</th>\n",
       "      <td>(15, 20]</td>\n",
       "      <td>2.0</td>\n",
       "      <td>offer completed</td>\n",
       "      <td>44</td>\n",
       "      <td>371</td>\n",
       "      <td>0.118598</td>\n",
       "    </tr>\n",
       "    <tr>\n",
       "      <th>4</th>\n",
       "      <td>(15, 20]</td>\n",
       "      <td>2.0</td>\n",
       "      <td>offer received</td>\n",
       "      <td>166</td>\n",
       "      <td>371</td>\n",
       "      <td>0.447439</td>\n",
       "    </tr>\n",
       "  </tbody>\n",
       "</table>\n",
       "</div>"
      ],
      "text/plain": [
       "  age_group  offer_id            event  counts  total  percentage\n",
       "0  (15, 20]       1.0  offer completed      54    358    0.150838\n",
       "1  (15, 20]       1.0   offer received     156    358    0.435754\n",
       "2  (15, 20]       1.0     offer viewed     148    358    0.413408\n",
       "3  (15, 20]       2.0  offer completed      44    371    0.118598\n",
       "4  (15, 20]       2.0   offer received     166    371    0.447439"
      ]
     },
     "execution_count": 51,
     "metadata": {},
     "output_type": "execute_result"
    }
   ],
   "source": [
    "age_off = trans_ppl.query('offer_id != 3 and offer_id != 8').groupby(['age_group','offer_id','event']).size().reset_index(name = 'counts')\n",
    "total = trans_ppl.query('offer_id != 3 and offer_id != 8').groupby(['age_group','offer_id']).size().reset_index(name = 'total')\n",
    "age_off = age_off.merge(total, how = 'left', on = ['age_group','offer_id'])\n",
    "age_off['percentage'] = age_off['counts']/age_off['total']\n",
    "age_off.head()"
   ]
  },
  {
   "cell_type": "code",
   "execution_count": 52,
   "metadata": {},
   "outputs": [
    {
     "name": "stderr",
     "output_type": "stream",
     "text": [
      "/opt/conda/lib/python3.6/site-packages/seaborn/axisgrid.py:708: UserWarning: Using the barplot function without specifying `hue_order` is likely to produce an incorrect plot.\n",
      "  warnings.warn(warning)\n"
     ]
    },
    {
     "data": {
      "image/png": "[encoded data removed]",
      "text/plain": [
       "<matplotlib.figure.Figure at 0x7f447e989eb8>"
      ]
     },
     "metadata": {
      "needs_background": "light"
     },
     "output_type": "display_data"
    }
   ],
   "source": [
    "g = sb.FacetGrid(data = age_off, col = 'age_group', col_wrap = 3, legend_out = True, size = 4)\n",
    "g = (g.map(sb.barplot, \"event\", \"percentage\", \"offer_id\", order = ['offer received', 'offer viewed','offer completed'])).add_legend()\n"
   ]
  },
  {
   "cell_type": "code",
   "execution_count": 53,
   "metadata": {},
   "outputs": [
    {
     "data": {
      "text/html": [
       "<div>\n",
       "<style scoped>\n",
       "    .dataframe tbody tr th:only-of-type {\n",
       "        vertical-align: middle;\n",
       "    }\n",
       "\n",
       "    .dataframe tbody tr th {\n",
       "        vertical-align: top;\n",
       "    }\n",
       "\n",
       "    .dataframe thead th {\n",
       "        text-align: right;\n",
       "    }\n",
       "</style>\n",
       "<table border=\"1\" class=\"dataframe\">\n",
       "  <thead>\n",
       "    <tr style=\"text-align: right;\">\n",
       "      <th></th>\n",
       "      <th>age_class</th>\n",
       "      <th>offer_id</th>\n",
       "      <th>event</th>\n",
       "      <th>counts</th>\n",
       "      <th>total</th>\n",
       "      <th>percentage</th>\n",
       "    </tr>\n",
       "  </thead>\n",
       "  <tbody>\n",
       "    <tr>\n",
       "      <th>0</th>\n",
       "      <td>young</td>\n",
       "      <td>1.0</td>\n",
       "      <td>offer completed</td>\n",
       "      <td>388</td>\n",
       "      <td>2498</td>\n",
       "      <td>0.155324</td>\n",
       "    </tr>\n",
       "    <tr>\n",
       "      <th>1</th>\n",
       "      <td>young</td>\n",
       "      <td>1.0</td>\n",
       "      <td>offer received</td>\n",
       "      <td>1076</td>\n",
       "      <td>2498</td>\n",
       "      <td>0.430745</td>\n",
       "    </tr>\n",
       "    <tr>\n",
       "      <th>2</th>\n",
       "      <td>young</td>\n",
       "      <td>1.0</td>\n",
       "      <td>offer viewed</td>\n",
       "      <td>1034</td>\n",
       "      <td>2498</td>\n",
       "      <td>0.413931</td>\n",
       "    </tr>\n",
       "    <tr>\n",
       "      <th>3</th>\n",
       "      <td>young</td>\n",
       "      <td>2.0</td>\n",
       "      <td>offer completed</td>\n",
       "      <td>348</td>\n",
       "      <td>2492</td>\n",
       "      <td>0.139647</td>\n",
       "    </tr>\n",
       "    <tr>\n",
       "      <th>4</th>\n",
       "      <td>young</td>\n",
       "      <td>2.0</td>\n",
       "      <td>offer received</td>\n",
       "      <td>1100</td>\n",
       "      <td>2492</td>\n",
       "      <td>0.441413</td>\n",
       "    </tr>\n",
       "  </tbody>\n",
       "</table>\n",
       "</div>"
      ],
      "text/plain": [
       "  age_class  offer_id            event  counts  total  percentage\n",
       "0     young       1.0  offer completed     388   2498    0.155324\n",
       "1     young       1.0   offer received    1076   2498    0.430745\n",
       "2     young       1.0     offer viewed    1034   2498    0.413931\n",
       "3     young       2.0  offer completed     348   2492    0.139647\n",
       "4     young       2.0   offer received    1100   2492    0.441413"
      ]
     },
     "execution_count": 53,
     "metadata": {},
     "output_type": "execute_result"
    }
   ],
   "source": [
    "xbin_edges = np.array([15,35,55,105])\n",
    "trans_ppl['age_class'] = pd.cut(trans_ppl['age'], bins = xbin_edges, include_lowest = False, right = True, labels = ['young','middle','old'])\n",
    "age_class =trans_ppl.query('offer_id != 3 and offer_id != 8').groupby(['age_class','offer_id','event']).size().reset_index(name = 'counts')\n",
    "total = trans_ppl.query('offer_id != 3 and offer_id != 8').groupby(['age_class','offer_id']).size().reset_index(name = 'total')\n",
    "age_class = age_class.merge(total, how = 'left', on = ['age_class','offer_id'])\n",
    "age_class['percentage'] = age_class['counts']/age_class['total']\n",
    "age_class.head()"
   ]
  },
  {
   "cell_type": "code",
   "execution_count": 54,
   "metadata": {},
   "outputs": [
    {
     "name": "stderr",
     "output_type": "stream",
     "text": [
      "/opt/conda/lib/python3.6/site-packages/seaborn/axisgrid.py:708: UserWarning: Using the barplot function without specifying `hue_order` is likely to produce an incorrect plot.\n",
      "  warnings.warn(warning)\n"
     ]
    },
    {
     "data": {
      "image/png": "[encoded data removed]",
      "text/plain": [
       "<matplotlib.figure.Figure at 0x7f447ead16a0>"
      ]
     },
     "metadata": {
      "needs_background": "light"
     },
     "output_type": "display_data"
    }
   ],
   "source": [
    "g = sb.FacetGrid(data = age_class, col = 'age_class', col_wrap = 3, legend_out = True, size = 4)\n",
    "g = (g.map(sb.barplot, \"event\", \"percentage\", \"offer_id\", order = ['offer received', 'offer viewed','offer completed'])).add_legend()\n"
   ]
  },
  {
   "cell_type": "code",
   "execution_count": 55,
   "metadata": {},
   "outputs": [
    {
     "name": "stderr",
     "output_type": "stream",
     "text": [
      "/opt/conda/lib/python3.6/site-packages/seaborn/axisgrid.py:703: UserWarning: Using the barplot function without specifying `order` is likely to produce an incorrect plot.\n",
      "  warnings.warn(warning)\n",
      "/opt/conda/lib/python3.6/site-packages/seaborn/axisgrid.py:708: UserWarning: Using the barplot function without specifying `hue_order` is likely to produce an incorrect plot.\n",
      "  warnings.warn(warning)\n"
     ]
    },
    {
     "data": {
      "image/png": "[encoded data removed]",
      "text/plain": [
       "<matplotlib.figure.Figure at 0x7f4478d287b8>"
      ]
     },
     "metadata": {
      "needs_background": "light"
     },
     "output_type": "display_data"
    }
   ],
   "source": [
    "g = sb.FacetGrid(data = age_class, col = 'event', col_wrap = 3, legend_out = True, size = 4, col_order = ['offer received', 'offer viewed', 'offer completed'])\n",
    "g = (g.map(sb.barplot, \"age_class\", \"percentage\", \"offer_id\")).add_legend()"
   ]
  },
  {
   "cell_type": "code",
   "execution_count": 56,
   "metadata": {},
   "outputs": [
    {
     "data": {
      "text/html": [
       "<div>\n",
       "<style scoped>\n",
       "    .dataframe tbody tr th:only-of-type {\n",
       "        vertical-align: middle;\n",
       "    }\n",
       "\n",
       "    .dataframe tbody tr th {\n",
       "        vertical-align: top;\n",
       "    }\n",
       "\n",
       "    .dataframe thead th {\n",
       "        text-align: right;\n",
       "    }\n",
       "</style>\n",
       "<table border=\"1\" class=\"dataframe\">\n",
       "  <thead>\n",
       "    <tr style=\"text-align: right;\">\n",
       "      <th></th>\n",
       "      <th>age_class</th>\n",
       "      <th>offer_type</th>\n",
       "      <th>event</th>\n",
       "      <th>counts</th>\n",
       "      <th>total</th>\n",
       "      <th>percentage</th>\n",
       "    </tr>\n",
       "  </thead>\n",
       "  <tbody>\n",
       "    <tr>\n",
       "      <th>0</th>\n",
       "      <td>young</td>\n",
       "      <td>bogo</td>\n",
       "      <td>offer completed</td>\n",
       "      <td>1874</td>\n",
       "      <td>9612</td>\n",
       "      <td>0.194965</td>\n",
       "    </tr>\n",
       "    <tr>\n",
       "      <th>1</th>\n",
       "      <td>young</td>\n",
       "      <td>bogo</td>\n",
       "      <td>offer received</td>\n",
       "      <td>4281</td>\n",
       "      <td>9612</td>\n",
       "      <td>0.445381</td>\n",
       "    </tr>\n",
       "    <tr>\n",
       "      <th>2</th>\n",
       "      <td>young</td>\n",
       "      <td>bogo</td>\n",
       "      <td>offer viewed</td>\n",
       "      <td>3457</td>\n",
       "      <td>9612</td>\n",
       "      <td>0.359655</td>\n",
       "    </tr>\n",
       "    <tr>\n",
       "      <th>3</th>\n",
       "      <td>young</td>\n",
       "      <td>discount</td>\n",
       "      <td>offer completed</td>\n",
       "      <td>2322</td>\n",
       "      <td>9288</td>\n",
       "      <td>0.250000</td>\n",
       "    </tr>\n",
       "    <tr>\n",
       "      <th>4</th>\n",
       "      <td>young</td>\n",
       "      <td>discount</td>\n",
       "      <td>offer received</td>\n",
       "      <td>4351</td>\n",
       "      <td>9288</td>\n",
       "      <td>0.468454</td>\n",
       "    </tr>\n",
       "  </tbody>\n",
       "</table>\n",
       "</div>"
      ],
      "text/plain": [
       "  age_class offer_type            event  counts  total  percentage\n",
       "0     young       bogo  offer completed    1874   9612    0.194965\n",
       "1     young       bogo   offer received    4281   9612    0.445381\n",
       "2     young       bogo     offer viewed    3457   9612    0.359655\n",
       "3     young   discount  offer completed    2322   9288    0.250000\n",
       "4     young   discount   offer received    4351   9288    0.468454"
      ]
     },
     "execution_count": 56,
     "metadata": {},
     "output_type": "execute_result"
    }
   ],
   "source": [
    "offer_type = trans_ppl.query('offer_id != 3 and offer_id != 8').groupby(['age_class','offer_type','event']).size().reset_index(name = 'counts')\n",
    "total = trans_ppl.query('offer_id != 3 and offer_id != 8').groupby(['age_class','offer_type']).size().reset_index(name = 'total')\n",
    "offer_type = offer_type.merge(total, how = 'left', on = ['age_class','offer_type'])\n",
    "offer_type['percentage'] = offer_type['counts']/offer_type['total']\n",
    "offer_type.head()"
   ]
  },
  {
   "cell_type": "code",
   "execution_count": 57,
   "metadata": {},
   "outputs": [
    {
     "name": "stderr",
     "output_type": "stream",
     "text": [
      "/opt/conda/lib/python3.6/site-packages/seaborn/axisgrid.py:703: UserWarning: Using the barplot function without specifying `order` is likely to produce an incorrect plot.\n",
      "  warnings.warn(warning)\n",
      "/opt/conda/lib/python3.6/site-packages/seaborn/axisgrid.py:708: UserWarning: Using the barplot function without specifying `hue_order` is likely to produce an incorrect plot.\n",
      "  warnings.warn(warning)\n"
     ]
    },
    {
     "data": {
      "image/png": "[encoded data removed]",
      "text/plain": [
       "<matplotlib.figure.Figure at 0x7f4478bdb748>"
      ]
     },
     "metadata": {
      "needs_background": "light"
     },
     "output_type": "display_data"
    }
   ],
   "source": [
    "g = sb.FacetGrid(data = offer_type, col = 'event', col_wrap = 3, legend_out = True, size = 4, col_order = ['offer received', 'offer viewed', 'offer completed'])\n",
    "g = (g.map(sb.barplot, \"age_class\", \"percentage\", \"offer_type\")).add_legend()"
   ]
  },
  {
   "cell_type": "markdown",
   "metadata": {},
   "source": [
    "> People in middle age have higher offer viewed rate but lower offer completed rate. However, young and old people have lower offer viewed rate but higher offer completed, which means if they reviewed the offers they have higher possibility to complete the offers than people in middle age do. \n",
    "\n",
    "> People in all age have higher view rate to bogo offers but, interestingly, lower completed rate to bogo offers. HOwever, we can not get the offer_id for those transaction events. Therefore, we cannot certainly sure if discount offers have higher completed rate unless we can get the offer_id for transaction events. "
   ]
  },
  {
   "cell_type": "code",
   "execution_count": 106,
   "metadata": {},
   "outputs": [],
   "source": [
    "response = pd.merge(transcript, profile, how = 'left', left_on = 'person', right_on = 'id')\n",
    "response = response.query('event != \"transaction\"')\n",
    "response.drop(['offer_num', 'id', 'trans_amt', 'value', 'event', 'person'], inplace = True, axis = 1)\n",
    "response = response.query('offer_id != 3.0 and offer_id != 8.0')"
   ]
  },
  {
   "cell_type": "code",
   "execution_count": 107,
   "metadata": {},
   "outputs": [
    {
     "data": {
      "text/plain": [
       "(141515, 7)"
      ]
     },
     "execution_count": 107,
     "metadata": {},
     "output_type": "execute_result"
    }
   ],
   "source": [
    "response.shape"
   ]
  },
  {
   "cell_type": "code",
   "execution_count": 108,
   "metadata": {},
   "outputs": [],
   "source": [
    "X = response.iloc[:,[0,1,3,4,5,6]]\n",
    "Y = response.iloc[:,2]\n",
    "gender = pd.get_dummies(X.iloc[:,4])\n",
    "X = pd.concat([X,gender], axis =1)\n",
    "X.drop('gender', axis = 1, inplace = True)\n"
   ]
  },
  {
   "cell_type": "code",
   "execution_count": 109,
   "metadata": {},
   "outputs": [],
   "source": [
    "X['member_days']= X['became_member_on']-datetime.today()\n",
    "X['member_days'] = X['member_days'].apply(lambda x: abs(x.days))\n",
    "X.drop('became_member_on', axis = 1, inplace = True)"
   ]
  },
  {
   "cell_type": "code",
   "execution_count": 110,
   "metadata": {},
   "outputs": [
    {
     "data": {
      "text/html": [
       "<div>\n",
       "<style scoped>\n",
       "    .dataframe tbody tr th:only-of-type {\n",
       "        vertical-align: middle;\n",
       "    }\n",
       "\n",
       "    .dataframe tbody tr th {\n",
       "        vertical-align: top;\n",
       "    }\n",
       "\n",
       "    .dataframe thead th {\n",
       "        text-align: right;\n",
       "    }\n",
       "</style>\n",
       "<table border=\"1\" class=\"dataframe\">\n",
       "  <thead>\n",
       "    <tr style=\"text-align: right;\">\n",
       "      <th></th>\n",
       "      <th>time</th>\n",
       "      <th>offer_id</th>\n",
       "      <th>age</th>\n",
       "      <th>income</th>\n",
       "      <th>F</th>\n",
       "      <th>M</th>\n",
       "      <th>O</th>\n",
       "      <th>member_days</th>\n",
       "    </tr>\n",
       "  </thead>\n",
       "  <tbody>\n",
       "    <tr>\n",
       "      <th>0</th>\n",
       "      <td>0</td>\n",
       "      <td>4.0</td>\n",
       "      <td>75.0</td>\n",
       "      <td>100000.0</td>\n",
       "      <td>1</td>\n",
       "      <td>0</td>\n",
       "      <td>0</td>\n",
       "      <td>1218</td>\n",
       "    </tr>\n",
       "    <tr>\n",
       "      <th>1</th>\n",
       "      <td>0</td>\n",
       "      <td>5.0</td>\n",
       "      <td>54.0</td>\n",
       "      <td>65405.0</td>\n",
       "      <td>1</td>\n",
       "      <td>0</td>\n",
       "      <td>0</td>\n",
       "      <td>1131</td>\n",
       "    </tr>\n",
       "    <tr>\n",
       "      <th>2</th>\n",
       "      <td>0</td>\n",
       "      <td>10.0</td>\n",
       "      <td>68.0</td>\n",
       "      <td>70000.0</td>\n",
       "      <td>0</td>\n",
       "      <td>1</td>\n",
       "      <td>0</td>\n",
       "      <td>866</td>\n",
       "    </tr>\n",
       "    <tr>\n",
       "      <th>3</th>\n",
       "      <td>0</td>\n",
       "      <td>7.0</td>\n",
       "      <td>54.0</td>\n",
       "      <td>65405.0</td>\n",
       "      <td>0</td>\n",
       "      <td>1</td>\n",
       "      <td>0</td>\n",
       "      <td>1079</td>\n",
       "    </tr>\n",
       "    <tr>\n",
       "      <th>4</th>\n",
       "      <td>0</td>\n",
       "      <td>2.0</td>\n",
       "      <td>54.0</td>\n",
       "      <td>65405.0</td>\n",
       "      <td>0</td>\n",
       "      <td>1</td>\n",
       "      <td>0</td>\n",
       "      <td>1072</td>\n",
       "    </tr>\n",
       "  </tbody>\n",
       "</table>\n",
       "</div>"
      ],
      "text/plain": [
       "   time  offer_id   age    income  F  M  O  member_days\n",
       "0     0       4.0  75.0  100000.0  1  0  0         1218\n",
       "1     0       5.0  54.0   65405.0  1  0  0         1131\n",
       "2     0      10.0  68.0   70000.0  0  1  0          866\n",
       "3     0       7.0  54.0   65405.0  0  1  0         1079\n",
       "4     0       2.0  54.0   65405.0  0  1  0         1072"
      ]
     },
     "execution_count": 110,
     "metadata": {},
     "output_type": "execute_result"
    }
   ],
   "source": [
    "X.head()"
   ]
  },
  {
   "cell_type": "code",
   "execution_count": 111,
   "metadata": {},
   "outputs": [],
   "source": [
    "X = pd.merge(X, portfolio, how = 'left', left_on = 'offer_id', right_on = 'simple_id')\n",
    "X.drop(['simple_id','id', 'offer_type', 'channels'], axis = 1, inplace = True)"
   ]
  },
  {
   "cell_type": "code",
   "execution_count": 112,
   "metadata": {},
   "outputs": [
    {
     "data": {
      "text/html": [
       "<div>\n",
       "<style scoped>\n",
       "    .dataframe tbody tr th:only-of-type {\n",
       "        vertical-align: middle;\n",
       "    }\n",
       "\n",
       "    .dataframe tbody tr th {\n",
       "        vertical-align: top;\n",
       "    }\n",
       "\n",
       "    .dataframe thead th {\n",
       "        text-align: right;\n",
       "    }\n",
       "</style>\n",
       "<table border=\"1\" class=\"dataframe\">\n",
       "  <thead>\n",
       "    <tr style=\"text-align: right;\">\n",
       "      <th></th>\n",
       "      <th>time</th>\n",
       "      <th>offer_id</th>\n",
       "      <th>age</th>\n",
       "      <th>income</th>\n",
       "      <th>F</th>\n",
       "      <th>M</th>\n",
       "      <th>O</th>\n",
       "      <th>member_days</th>\n",
       "      <th>difficulty</th>\n",
       "      <th>duration</th>\n",
       "      <th>reward</th>\n",
       "      <th>email</th>\n",
       "      <th>mobile</th>\n",
       "      <th>web</th>\n",
       "      <th>social</th>\n",
       "      <th>bogo</th>\n",
       "      <th>discount</th>\n",
       "      <th>informational</th>\n",
       "      <th>completed rate</th>\n",
       "    </tr>\n",
       "  </thead>\n",
       "  <tbody>\n",
       "    <tr>\n",
       "      <th>0</th>\n",
       "      <td>0</td>\n",
       "      <td>4.0</td>\n",
       "      <td>75.0</td>\n",
       "      <td>100000.0</td>\n",
       "      <td>1</td>\n",
       "      <td>0</td>\n",
       "      <td>0</td>\n",
       "      <td>1218</td>\n",
       "      <td>5</td>\n",
       "      <td>7</td>\n",
       "      <td>5</td>\n",
       "      <td>1</td>\n",
       "      <td>1</td>\n",
       "      <td>1</td>\n",
       "      <td>0</td>\n",
       "      <td>1</td>\n",
       "      <td>0</td>\n",
       "      <td>0</td>\n",
       "      <td>0.268732</td>\n",
       "    </tr>\n",
       "    <tr>\n",
       "      <th>1</th>\n",
       "      <td>0</td>\n",
       "      <td>5.0</td>\n",
       "      <td>54.0</td>\n",
       "      <td>65405.0</td>\n",
       "      <td>1</td>\n",
       "      <td>0</td>\n",
       "      <td>0</td>\n",
       "      <td>1131</td>\n",
       "      <td>20</td>\n",
       "      <td>10</td>\n",
       "      <td>5</td>\n",
       "      <td>1</td>\n",
       "      <td>0</td>\n",
       "      <td>1</td>\n",
       "      <td>0</td>\n",
       "      <td>0</td>\n",
       "      <td>1</td>\n",
       "      <td>0</td>\n",
       "      <td>0.248709</td>\n",
       "    </tr>\n",
       "    <tr>\n",
       "      <th>2</th>\n",
       "      <td>0</td>\n",
       "      <td>10.0</td>\n",
       "      <td>68.0</td>\n",
       "      <td>70000.0</td>\n",
       "      <td>0</td>\n",
       "      <td>1</td>\n",
       "      <td>0</td>\n",
       "      <td>866</td>\n",
       "      <td>10</td>\n",
       "      <td>7</td>\n",
       "      <td>2</td>\n",
       "      <td>1</td>\n",
       "      <td>1</td>\n",
       "      <td>1</td>\n",
       "      <td>0</td>\n",
       "      <td>0</td>\n",
       "      <td>1</td>\n",
       "      <td>0</td>\n",
       "      <td>0.254773</td>\n",
       "    </tr>\n",
       "    <tr>\n",
       "      <th>3</th>\n",
       "      <td>0</td>\n",
       "      <td>7.0</td>\n",
       "      <td>54.0</td>\n",
       "      <td>65405.0</td>\n",
       "      <td>0</td>\n",
       "      <td>1</td>\n",
       "      <td>0</td>\n",
       "      <td>1079</td>\n",
       "      <td>10</td>\n",
       "      <td>10</td>\n",
       "      <td>2</td>\n",
       "      <td>1</td>\n",
       "      <td>1</td>\n",
       "      <td>1</td>\n",
       "      <td>1</td>\n",
       "      <td>0</td>\n",
       "      <td>1</td>\n",
       "      <td>0</td>\n",
       "      <td>0.262685</td>\n",
       "    </tr>\n",
       "    <tr>\n",
       "      <th>4</th>\n",
       "      <td>0</td>\n",
       "      <td>2.0</td>\n",
       "      <td>54.0</td>\n",
       "      <td>65405.0</td>\n",
       "      <td>0</td>\n",
       "      <td>1</td>\n",
       "      <td>0</td>\n",
       "      <td>1072</td>\n",
       "      <td>10</td>\n",
       "      <td>5</td>\n",
       "      <td>10</td>\n",
       "      <td>1</td>\n",
       "      <td>1</td>\n",
       "      <td>1</td>\n",
       "      <td>1</td>\n",
       "      <td>1</td>\n",
       "      <td>0</td>\n",
       "      <td>0</td>\n",
       "      <td>0.182801</td>\n",
       "    </tr>\n",
       "  </tbody>\n",
       "</table>\n",
       "</div>"
      ],
      "text/plain": [
       "   time  offer_id   age    income  F  M  O  member_days  difficulty  duration  \\\n",
       "0     0       4.0  75.0  100000.0  1  0  0         1218           5         7   \n",
       "1     0       5.0  54.0   65405.0  1  0  0         1131          20        10   \n",
       "2     0      10.0  68.0   70000.0  0  1  0          866          10         7   \n",
       "3     0       7.0  54.0   65405.0  0  1  0         1079          10        10   \n",
       "4     0       2.0  54.0   65405.0  0  1  0         1072          10         5   \n",
       "\n",
       "   reward  email  mobile  web  social  bogo  discount  informational  \\\n",
       "0       5      1       1    1       0     1         0              0   \n",
       "1       5      1       0    1       0     0         1              0   \n",
       "2       2      1       1    1       0     0         1              0   \n",
       "3       2      1       1    1       1     0         1              0   \n",
       "4      10      1       1    1       1     1         0              0   \n",
       "\n",
       "   completed rate  \n",
       "0        0.268732  \n",
       "1        0.248709  \n",
       "2        0.254773  \n",
       "3        0.262685  \n",
       "4        0.182801  "
      ]
     },
     "execution_count": 112,
     "metadata": {},
     "output_type": "execute_result"
    }
   ],
   "source": [
    "X.head()"
   ]
  },
  {
   "cell_type": "code",
   "execution_count": 113,
   "metadata": {},
   "outputs": [],
   "source": [
    "from sklearn.preprocessing import StandardScaler\n",
    "std_scaler =StandardScaler()\n",
    "X.iloc[:,[0,2,3,7,8,9,10]] = std_scaler.fit_transform(X.iloc[:,[0,2,3,7,8,9,10]])\n",
    "offer = pd.get_dummies(X.iloc[:,1])\n",
    "X = pd.concat([X, offer], axis = 1)\n",
    "X.drop('offer_id', axis = 1, inplace = True)"
   ]
  },
  {
   "cell_type": "code",
   "execution_count": 114,
   "metadata": {},
   "outputs": [],
   "source": [
    "X_train, X_test, Y_train, Y_test = train_test_split(X, Y, test_size = 0.3,random_state = 42)"
   ]
  },
  {
   "cell_type": "code",
   "execution_count": 203,
   "metadata": {},
   "outputs": [
    {
     "data": {
      "text/plain": [
       "(99060, 26)"
      ]
     },
     "execution_count": 203,
     "metadata": {},
     "output_type": "execute_result"
    }
   ],
   "source": [
    "X_train.shape"
   ]
  },
  {
   "cell_type": "code",
   "execution_count": 204,
   "metadata": {},
   "outputs": [],
   "source": [
    "Y_train = Y_train.reset_index(drop = True)\n",
    "X_train = X_train.reset_index(drop = True)\n",
    "idx = list(Y_train[Y_train == 1].index)"
   ]
  },
  {
   "cell_type": "code",
   "execution_count": 205,
   "metadata": {
    "scrolled": true
   },
   "outputs": [],
   "source": [
    "positive_X = X_train.iloc[idx,:]\n",
    "positive_Y = Y_train.iloc[idx]"
   ]
  },
  {
   "cell_type": "code",
   "execution_count": 206,
   "metadata": {},
   "outputs": [
    {
     "data": {
      "text/plain": [
       "(333650, 26)"
      ]
     },
     "execution_count": 206,
     "metadata": {},
     "output_type": "execute_result"
    }
   ],
   "source": [
    "for i in range(164):\n",
    "    X_train = pd.concat([X_train, positive_X],axis = 0)\n",
    "    Y_train = pd.concat([Y_train, positive_Y],axis = 0)                "
   ]
  },
  {
   "cell_type": "code",
   "execution_count": 115,
   "metadata": {},
   "outputs": [
    {
     "data": {
      "text/plain": [
       "0.7164950389475111"
      ]
     },
     "execution_count": 115,
     "metadata": {},
     "output_type": "execute_result"
    }
   ],
   "source": [
    "model = RandomForestClassifier()\n",
    "model.fit(X_train, Y_train)\n",
    "y_pred = model.predict(X_test)\n",
    "cross_val_score(model, X_train, Y_train, cv=5).mean()"
   ]
  },
  {
   "cell_type": "code",
   "execution_count": 116,
   "metadata": {},
   "outputs": [
    {
     "name": "stdout",
     "output_type": "stream",
     "text": [
      "0.161956521739\n",
      "0.710210811447\n"
     ]
    },
    {
     "data": {
      "text/plain": [
       "array([[28513,  3822],\n",
       "       [ 8481,  1639]])"
      ]
     },
     "execution_count": 116,
     "metadata": {},
     "output_type": "execute_result"
    }
   ],
   "source": [
    "print(recall_score(Y_test, y_pred))\n",
    "print(accuracy_score(Y_test, y_pred))\n",
    "confusion_matrix(Y_test, y_pred)"
   ]
  },
  {
   "cell_type": "markdown",
   "metadata": {},
   "source": [
    "> We can use the above random forest model to predict if the member will respond to the offer. The information required are time/offer_id/age/became_member_on/income/gender"
   ]
  },
  {
   "cell_type": "code",
   "execution_count": 117,
   "metadata": {},
   "outputs": [
    {
     "data": {
      "text/plain": [
       "0.81462746517749962"
      ]
     },
     "execution_count": 117,
     "metadata": {},
     "output_type": "execute_result"
    }
   ],
   "source": [
    "model = GradientBoostingClassifier()\n",
    "model.fit(X_train, Y_train)\n",
    "y_pred = model.predict(X_test)\n",
    "cross_val_score(model, X_train, Y_train, cv=5).mean()"
   ]
  },
  {
   "cell_type": "code",
   "execution_count": 118,
   "metadata": {},
   "outputs": [
    {
     "name": "stdout",
     "output_type": "stream",
     "text": [
      "0.449209486166\n",
      "0.814250382758\n"
     ]
    },
    {
     "data": {
      "text/plain": [
       "array([[30023,  2312],\n",
       "       [ 5574,  4546]])"
      ]
     },
     "execution_count": 118,
     "metadata": {},
     "output_type": "execute_result"
    }
   ],
   "source": [
    "print(recall_score(Y_test, y_pred))\n",
    "print(accuracy_score(Y_test, y_pred))\n",
    "confusion_matrix(Y_test, y_pred)"
   ]
  },
  {
   "cell_type": "code",
   "execution_count": 96,
   "metadata": {},
   "outputs": [],
   "source": [
    "response = pd.merge(transcript, profile, how = 'left', left_on = 'person', right_on = 'id')\n",
    "response.drop(['offer_num', 'id', 'trans_amt', 'value', 'event', 'person'], inplace = True, axis = 1)\n",
    "response = response.query('offer_id != 3.0 and offer_id != 8.0')\n",
    "response.drop('offer_id', axis = 1, inplace=True)"
   ]
  },
  {
   "cell_type": "code",
   "execution_count": 97,
   "metadata": {},
   "outputs": [],
   "source": [
    "X = response.iloc[:,[0,2,3,4,5]]\n",
    "Y = response.iloc[:,1]\n",
    "gender = pd.get_dummies(X.iloc[:,3])\n",
    "X = pd.concat([X,gender], axis =1)\n",
    "X.drop('gender', axis = 1, inplace = True)"
   ]
  },
  {
   "cell_type": "code",
   "execution_count": 98,
   "metadata": {},
   "outputs": [],
   "source": [
    "X['member_days']= X['became_member_on']-datetime.today()\n",
    "X['member_days'] = X['member_days'].apply(lambda x: abs(x.days))\n",
    "X.drop('became_member_on', axis = 1, inplace = True)"
   ]
  },
  {
   "cell_type": "code",
   "execution_count": 99,
   "metadata": {},
   "outputs": [
    {
     "data": {
      "text/html": [
       "<div>\n",
       "<style scoped>\n",
       "    .dataframe tbody tr th:only-of-type {\n",
       "        vertical-align: middle;\n",
       "    }\n",
       "\n",
       "    .dataframe tbody tr th {\n",
       "        vertical-align: top;\n",
       "    }\n",
       "\n",
       "    .dataframe thead th {\n",
       "        text-align: right;\n",
       "    }\n",
       "</style>\n",
       "<table border=\"1\" class=\"dataframe\">\n",
       "  <thead>\n",
       "    <tr style=\"text-align: right;\">\n",
       "      <th></th>\n",
       "      <th>time</th>\n",
       "      <th>age</th>\n",
       "      <th>income</th>\n",
       "      <th>F</th>\n",
       "      <th>M</th>\n",
       "      <th>O</th>\n",
       "      <th>member_days</th>\n",
       "    </tr>\n",
       "  </thead>\n",
       "  <tbody>\n",
       "    <tr>\n",
       "      <th>0</th>\n",
       "      <td>0</td>\n",
       "      <td>75.0</td>\n",
       "      <td>100000.0</td>\n",
       "      <td>1</td>\n",
       "      <td>0</td>\n",
       "      <td>0</td>\n",
       "      <td>1218</td>\n",
       "    </tr>\n",
       "    <tr>\n",
       "      <th>1</th>\n",
       "      <td>0</td>\n",
       "      <td>54.0</td>\n",
       "      <td>65405.0</td>\n",
       "      <td>1</td>\n",
       "      <td>0</td>\n",
       "      <td>0</td>\n",
       "      <td>1131</td>\n",
       "    </tr>\n",
       "    <tr>\n",
       "      <th>2</th>\n",
       "      <td>0</td>\n",
       "      <td>68.0</td>\n",
       "      <td>70000.0</td>\n",
       "      <td>0</td>\n",
       "      <td>1</td>\n",
       "      <td>0</td>\n",
       "      <td>866</td>\n",
       "    </tr>\n",
       "    <tr>\n",
       "      <th>3</th>\n",
       "      <td>0</td>\n",
       "      <td>54.0</td>\n",
       "      <td>65405.0</td>\n",
       "      <td>0</td>\n",
       "      <td>1</td>\n",
       "      <td>0</td>\n",
       "      <td>1079</td>\n",
       "    </tr>\n",
       "    <tr>\n",
       "      <th>4</th>\n",
       "      <td>0</td>\n",
       "      <td>54.0</td>\n",
       "      <td>65405.0</td>\n",
       "      <td>0</td>\n",
       "      <td>1</td>\n",
       "      <td>0</td>\n",
       "      <td>1072</td>\n",
       "    </tr>\n",
       "  </tbody>\n",
       "</table>\n",
       "</div>"
      ],
      "text/plain": [
       "   time   age    income  F  M  O  member_days\n",
       "0     0  75.0  100000.0  1  0  0         1218\n",
       "1     0  54.0   65405.0  1  0  0         1131\n",
       "2     0  68.0   70000.0  0  1  0          866\n",
       "3     0  54.0   65405.0  0  1  0         1079\n",
       "4     0  54.0   65405.0  0  1  0         1072"
      ]
     },
     "execution_count": 99,
     "metadata": {},
     "output_type": "execute_result"
    }
   ],
   "source": [
    "X.head()"
   ]
  },
  {
   "cell_type": "code",
   "execution_count": 100,
   "metadata": {},
   "outputs": [
    {
     "data": {
      "text/html": [
       "<div>\n",
       "<style scoped>\n",
       "    .dataframe tbody tr th:only-of-type {\n",
       "        vertical-align: middle;\n",
       "    }\n",
       "\n",
       "    .dataframe tbody tr th {\n",
       "        vertical-align: top;\n",
       "    }\n",
       "\n",
       "    .dataframe thead th {\n",
       "        text-align: right;\n",
       "    }\n",
       "</style>\n",
       "<table border=\"1\" class=\"dataframe\">\n",
       "  <thead>\n",
       "    <tr style=\"text-align: right;\">\n",
       "      <th></th>\n",
       "      <th>time</th>\n",
       "      <th>age</th>\n",
       "      <th>income</th>\n",
       "      <th>F</th>\n",
       "      <th>M</th>\n",
       "      <th>O</th>\n",
       "      <th>member_days</th>\n",
       "    </tr>\n",
       "  </thead>\n",
       "  <tbody>\n",
       "    <tr>\n",
       "      <th>0</th>\n",
       "      <td>-1.840168</td>\n",
       "      <td>1.277773</td>\n",
       "      <td>1.776182</td>\n",
       "      <td>1</td>\n",
       "      <td>0</td>\n",
       "      <td>0</td>\n",
       "      <td>-0.324593</td>\n",
       "    </tr>\n",
       "    <tr>\n",
       "      <th>1</th>\n",
       "      <td>-1.840168</td>\n",
       "      <td>0.012237</td>\n",
       "      <td>0.051950</td>\n",
       "      <td>1</td>\n",
       "      <td>0</td>\n",
       "      <td>0</td>\n",
       "      <td>-0.530753</td>\n",
       "    </tr>\n",
       "    <tr>\n",
       "      <th>2</th>\n",
       "      <td>-1.840168</td>\n",
       "      <td>0.855928</td>\n",
       "      <td>0.280967</td>\n",
       "      <td>0</td>\n",
       "      <td>1</td>\n",
       "      <td>0</td>\n",
       "      <td>-1.158713</td>\n",
       "    </tr>\n",
       "    <tr>\n",
       "      <th>3</th>\n",
       "      <td>-1.840168</td>\n",
       "      <td>0.012237</td>\n",
       "      <td>0.051950</td>\n",
       "      <td>0</td>\n",
       "      <td>1</td>\n",
       "      <td>0</td>\n",
       "      <td>-0.653976</td>\n",
       "    </tr>\n",
       "    <tr>\n",
       "      <th>4</th>\n",
       "      <td>-1.840168</td>\n",
       "      <td>0.012237</td>\n",
       "      <td>0.051950</td>\n",
       "      <td>0</td>\n",
       "      <td>1</td>\n",
       "      <td>0</td>\n",
       "      <td>-0.670563</td>\n",
       "    </tr>\n",
       "  </tbody>\n",
       "</table>\n",
       "</div>"
      ],
      "text/plain": [
       "       time       age    income  F  M  O  member_days\n",
       "0 -1.840168  1.277773  1.776182  1  0  0    -0.324593\n",
       "1 -1.840168  0.012237  0.051950  1  0  0    -0.530753\n",
       "2 -1.840168  0.855928  0.280967  0  1  0    -1.158713\n",
       "3 -1.840168  0.012237  0.051950  0  1  0    -0.653976\n",
       "4 -1.840168  0.012237  0.051950  0  1  0    -0.670563"
      ]
     },
     "execution_count": 100,
     "metadata": {},
     "output_type": "execute_result"
    }
   ],
   "source": [
    "from sklearn.preprocessing import StandardScaler\n",
    "std_scaler =StandardScaler()\n",
    "X.iloc[:,[0,1,2,6]] = std_scaler.fit_transform(X.iloc[:,[0,1,2,6]])\n",
    "X.head()"
   ]
  },
  {
   "cell_type": "code",
   "execution_count": 101,
   "metadata": {},
   "outputs": [],
   "source": [
    "X_train, X_test, Y_train, Y_test = train_test_split(X, Y, test_size = 0.3,random_state = 42)"
   ]
  },
  {
   "cell_type": "code",
   "execution_count": 102,
   "metadata": {},
   "outputs": [
    {
     "data": {
      "text/plain": [
       "0.75770523098604725"
      ]
     },
     "execution_count": 102,
     "metadata": {},
     "output_type": "execute_result"
    }
   ],
   "source": [
    "model = RandomForestClassifier()\n",
    "model.fit(X_train, Y_train)\n",
    "y_pred = model.predict(X_test)\n",
    "cross_val_score(model, X_train, Y_train, cv=5).mean()"
   ]
  },
  {
   "cell_type": "code",
   "execution_count": 103,
   "metadata": {},
   "outputs": [
    {
     "name": "stdout",
     "output_type": "stream",
     "text": [
      "0.825316848184\n",
      "0.763064380029\n"
     ]
    },
    {
     "data": {
      "text/plain": [
       "array([[21617, 10922],\n",
       "       [ 9014, 42588]])"
      ]
     },
     "execution_count": 103,
     "metadata": {},
     "output_type": "execute_result"
    }
   ],
   "source": [
    "print(recall_score(Y_test, y_pred))\n",
    "print(accuracy_score(Y_test, y_pred))\n",
    "confusion_matrix(Y_test, y_pred)"
   ]
  },
  {
   "cell_type": "code",
   "execution_count": 104,
   "metadata": {},
   "outputs": [
    {
     "data": {
      "text/plain": [
       "0.83998124556709475"
      ]
     },
     "execution_count": 104,
     "metadata": {},
     "output_type": "execute_result"
    }
   ],
   "source": [
    "model = GradientBoostingClassifier()\n",
    "model.fit(X_train, Y_train)\n",
    "y_pred = model.predict(X_test)\n",
    "cross_val_score(model, X_train, Y_train, cv=5).mean()"
   ]
  },
  {
   "cell_type": "code",
   "execution_count": 105,
   "metadata": {},
   "outputs": [
    {
     "name": "stdout",
     "output_type": "stream",
     "text": [
      "0.931456145111\n",
      "0.837736656327\n"
     ]
    },
    {
     "data": {
      "text/plain": [
       "array([[22423, 10116],\n",
       "       [ 3537, 48065]])"
      ]
     },
     "execution_count": 105,
     "metadata": {},
     "output_type": "execute_result"
    }
   ],
   "source": [
    "print(recall_score(Y_test, y_pred))\n",
    "print(accuracy_score(Y_test, y_pred))\n",
    "confusion_matrix(Y_test, y_pred)"
   ]
  },
  {
   "cell_type": "code",
   "execution_count": null,
   "metadata": {},
   "outputs": [],
   "source": []
  }
 ],
 "metadata": {
  "kernelspec": {
   "display_name": "Python 3",
   "language": "python",
   "name": "python3"
  },
  "language_info": {
   "codemirror_mode": {
    "name": "ipython",
    "version": 3
   },
   "file_extension": ".py",
   "mimetype": "text/x-python",
   "name": "python",
   "nbconvert_exporter": "python",
   "pygments_lexer": "ipython3",
   "version": "3.6.3"
  }
 },
 "nbformat": 4,
 "nbformat_minor": 2
}
